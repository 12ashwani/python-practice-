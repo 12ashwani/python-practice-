{
  "cells": [
    {
      "cell_type": "markdown",
      "metadata": {},
      "source": [
        "# Predicting Hotel Booking Cancellations: Building a Naive Bayes Model - Assignment\n",
        "\n"
      ]
    },
    {
      "cell_type": "markdown",
      "metadata": {
        "id": "g6fYALpZjEYR"
      },
      "source": [
        "# import the main library"
      ]
    },
    {
      "cell_type": "code",
      "execution_count": 1,
      "metadata": {
        "id": "okehIT6grKpp"
      },
      "outputs": [
        {
          "name": "stderr",
          "output_type": "stream",
          "text": [
            "C:\\Users\\admin\\AppData\\Local\\Temp\\ipykernel_33636\\485484291.py:1: DeprecationWarning: \n",
            "Pyarrow will become a required dependency of pandas in the next major release of pandas (pandas 3.0),\n",
            "(to allow more performant data types, such as the Arrow string type, and better interoperability with other libraries)\n",
            "but was not found to be installed on your system.\n",
            "If this would cause problems for you,\n",
            "please provide us feedback at https://github.com/pandas-dev/pandas/issues/54466\n",
            "        \n",
            "  import pandas as pd\n"
          ]
        }
      ],
      "source": [
        "import pandas as pd\n",
        "import numpy as np\n",
        "import matplotlib.pyplot as plt\n",
        "import seaborn as sns\n",
        "from sklearn.model_selection import train_test_split\n",
        "from sklearn.preprocessing import PowerTransformer, StandardScaler, OneHotEncoder, LabelEncoder\n",
        "from sklearn.naive_bayes import GaussianNB\n",
        "from sklearn.metrics import roc_auc_score,confusion_matrix,accuracy_score,r2_score\n",
        "from sklearn.compose import ColumnTransformer\n",
        "from sklearn.pipeline import Pipeline\n",
        "from sklearn.impute import SimpleImputer\n",
        "# from google.colab import files\n"
      ]
    },
    {
      "cell_type": "markdown",
      "metadata": {
        "id": "64K5NSdSjB2A"
      },
      "source": [
        "# Read the hotel dataset.\n"
      ]
    },
    {
      "cell_type": "code",
      "execution_count": 2,
      "metadata": {
        "id": "Uerlb7zU0qOr"
      },
      "outputs": [],
      "source": [
        "df= pd.read_csv('hotel.csv')\n"
      ]
    },
    {
      "cell_type": "code",
      "execution_count": 3,
      "metadata": {
        "colab": {
          "base_uri": "https://localhost:8080/",
          "height": 342
        },
        "id": "YeZVUJxbipEL",
        "outputId": "b591f1df-8ae6-4acd-b563-c505220ae52d"
      },
      "outputs": [
        {
          "data": {
            "text/html": [
              "<div>\n",
              "<style scoped>\n",
              "    .dataframe tbody tr th:only-of-type {\n",
              "        vertical-align: middle;\n",
              "    }\n",
              "\n",
              "    .dataframe tbody tr th {\n",
              "        vertical-align: top;\n",
              "    }\n",
              "\n",
              "    .dataframe thead th {\n",
              "        text-align: right;\n",
              "    }\n",
              "</style>\n",
              "<table border=\"1\" class=\"dataframe\">\n",
              "  <thead>\n",
              "    <tr style=\"text-align: right;\">\n",
              "      <th></th>\n",
              "      <th>hotel</th>\n",
              "      <th>is_canceled</th>\n",
              "      <th>lead_time</th>\n",
              "      <th>arrival_date_year</th>\n",
              "      <th>arrival_date_month</th>\n",
              "      <th>arrival_date_week_number</th>\n",
              "      <th>arrival_date_day_of_month</th>\n",
              "      <th>stays_in_weekend_nights</th>\n",
              "      <th>stays_in_week_nights</th>\n",
              "      <th>adults</th>\n",
              "      <th>...</th>\n",
              "      <th>deposit_type</th>\n",
              "      <th>agent</th>\n",
              "      <th>company</th>\n",
              "      <th>days_in_waiting_list</th>\n",
              "      <th>customer_type</th>\n",
              "      <th>adr</th>\n",
              "      <th>required_car_parking_spaces</th>\n",
              "      <th>total_of_special_requests</th>\n",
              "      <th>reservation_status</th>\n",
              "      <th>reservation_status_date</th>\n",
              "    </tr>\n",
              "  </thead>\n",
              "  <tbody>\n",
              "    <tr>\n",
              "      <th>0</th>\n",
              "      <td>Resort Hotel</td>\n",
              "      <td>0</td>\n",
              "      <td>342</td>\n",
              "      <td>2015</td>\n",
              "      <td>July</td>\n",
              "      <td>27</td>\n",
              "      <td>1</td>\n",
              "      <td>0</td>\n",
              "      <td>0</td>\n",
              "      <td>2</td>\n",
              "      <td>...</td>\n",
              "      <td>No Deposit</td>\n",
              "      <td>NaN</td>\n",
              "      <td>NaN</td>\n",
              "      <td>0</td>\n",
              "      <td>Transient</td>\n",
              "      <td>0.0</td>\n",
              "      <td>0</td>\n",
              "      <td>0</td>\n",
              "      <td>Check-Out</td>\n",
              "      <td>2015-07-01</td>\n",
              "    </tr>\n",
              "    <tr>\n",
              "      <th>1</th>\n",
              "      <td>Resort Hotel</td>\n",
              "      <td>0</td>\n",
              "      <td>737</td>\n",
              "      <td>2015</td>\n",
              "      <td>July</td>\n",
              "      <td>27</td>\n",
              "      <td>1</td>\n",
              "      <td>0</td>\n",
              "      <td>0</td>\n",
              "      <td>2</td>\n",
              "      <td>...</td>\n",
              "      <td>No Deposit</td>\n",
              "      <td>NaN</td>\n",
              "      <td>NaN</td>\n",
              "      <td>0</td>\n",
              "      <td>Transient</td>\n",
              "      <td>0.0</td>\n",
              "      <td>0</td>\n",
              "      <td>0</td>\n",
              "      <td>Check-Out</td>\n",
              "      <td>2015-07-01</td>\n",
              "    </tr>\n",
              "    <tr>\n",
              "      <th>2</th>\n",
              "      <td>Resort Hotel</td>\n",
              "      <td>0</td>\n",
              "      <td>7</td>\n",
              "      <td>2015</td>\n",
              "      <td>July</td>\n",
              "      <td>27</td>\n",
              "      <td>1</td>\n",
              "      <td>0</td>\n",
              "      <td>1</td>\n",
              "      <td>1</td>\n",
              "      <td>...</td>\n",
              "      <td>No Deposit</td>\n",
              "      <td>NaN</td>\n",
              "      <td>NaN</td>\n",
              "      <td>0</td>\n",
              "      <td>Transient</td>\n",
              "      <td>75.0</td>\n",
              "      <td>0</td>\n",
              "      <td>0</td>\n",
              "      <td>Check-Out</td>\n",
              "      <td>2015-07-02</td>\n",
              "    </tr>\n",
              "    <tr>\n",
              "      <th>3</th>\n",
              "      <td>Resort Hotel</td>\n",
              "      <td>0</td>\n",
              "      <td>13</td>\n",
              "      <td>2015</td>\n",
              "      <td>July</td>\n",
              "      <td>27</td>\n",
              "      <td>1</td>\n",
              "      <td>0</td>\n",
              "      <td>1</td>\n",
              "      <td>1</td>\n",
              "      <td>...</td>\n",
              "      <td>No Deposit</td>\n",
              "      <td>304.0</td>\n",
              "      <td>NaN</td>\n",
              "      <td>0</td>\n",
              "      <td>Transient</td>\n",
              "      <td>75.0</td>\n",
              "      <td>0</td>\n",
              "      <td>0</td>\n",
              "      <td>Check-Out</td>\n",
              "      <td>2015-07-02</td>\n",
              "    </tr>\n",
              "    <tr>\n",
              "      <th>4</th>\n",
              "      <td>Resort Hotel</td>\n",
              "      <td>0</td>\n",
              "      <td>14</td>\n",
              "      <td>2015</td>\n",
              "      <td>July</td>\n",
              "      <td>27</td>\n",
              "      <td>1</td>\n",
              "      <td>0</td>\n",
              "      <td>2</td>\n",
              "      <td>2</td>\n",
              "      <td>...</td>\n",
              "      <td>No Deposit</td>\n",
              "      <td>240.0</td>\n",
              "      <td>NaN</td>\n",
              "      <td>0</td>\n",
              "      <td>Transient</td>\n",
              "      <td>98.0</td>\n",
              "      <td>0</td>\n",
              "      <td>1</td>\n",
              "      <td>Check-Out</td>\n",
              "      <td>2015-07-03</td>\n",
              "    </tr>\n",
              "  </tbody>\n",
              "</table>\n",
              "<p>5 rows × 32 columns</p>\n",
              "</div>"
            ],
            "text/plain": [
              "          hotel  is_canceled  lead_time  arrival_date_year arrival_date_month  \\\n",
              "0  Resort Hotel            0        342               2015               July   \n",
              "1  Resort Hotel            0        737               2015               July   \n",
              "2  Resort Hotel            0          7               2015               July   \n",
              "3  Resort Hotel            0         13               2015               July   \n",
              "4  Resort Hotel            0         14               2015               July   \n",
              "\n",
              "   arrival_date_week_number  arrival_date_day_of_month  \\\n",
              "0                        27                          1   \n",
              "1                        27                          1   \n",
              "2                        27                          1   \n",
              "3                        27                          1   \n",
              "4                        27                          1   \n",
              "\n",
              "   stays_in_weekend_nights  stays_in_week_nights  adults  ...  deposit_type  \\\n",
              "0                        0                     0       2  ...    No Deposit   \n",
              "1                        0                     0       2  ...    No Deposit   \n",
              "2                        0                     1       1  ...    No Deposit   \n",
              "3                        0                     1       1  ...    No Deposit   \n",
              "4                        0                     2       2  ...    No Deposit   \n",
              "\n",
              "   agent company days_in_waiting_list customer_type   adr  \\\n",
              "0    NaN     NaN                    0     Transient   0.0   \n",
              "1    NaN     NaN                    0     Transient   0.0   \n",
              "2    NaN     NaN                    0     Transient  75.0   \n",
              "3  304.0     NaN                    0     Transient  75.0   \n",
              "4  240.0     NaN                    0     Transient  98.0   \n",
              "\n",
              "   required_car_parking_spaces  total_of_special_requests  reservation_status  \\\n",
              "0                            0                          0           Check-Out   \n",
              "1                            0                          0           Check-Out   \n",
              "2                            0                          0           Check-Out   \n",
              "3                            0                          0           Check-Out   \n",
              "4                            0                          1           Check-Out   \n",
              "\n",
              "  reservation_status_date  \n",
              "0              2015-07-01  \n",
              "1              2015-07-01  \n",
              "2              2015-07-02  \n",
              "3              2015-07-02  \n",
              "4              2015-07-03  \n",
              "\n",
              "[5 rows x 32 columns]"
            ]
          },
          "execution_count": 3,
          "metadata": {},
          "output_type": "execute_result"
        }
      ],
      "source": [
        "df.head()"
      ]
    },
    {
      "cell_type": "code",
      "execution_count": 4,
      "metadata": {
        "id": "dKJWHEHgipBv"
      },
      "outputs": [],
      "source": [
        "hotel_data=df.copy()"
      ]
    },
    {
      "cell_type": "markdown",
      "metadata": {
        "id": "kgpYNxPSjPLc"
      },
      "source": [
        "# Q-2  Exploratory Data Analysis (EDA) - Show the Data quality check, treat the missing values, etc if any.\n"
      ]
    },
    {
      "cell_type": "code",
      "execution_count": 5,
      "metadata": {
        "colab": {
          "base_uri": "https://localhost:8080/",
          "height": 320
        },
        "id": "kkcvXVTBio_a",
        "outputId": "d18140af-f995-4129-d0f4-30eaceeb9042"
      },
      "outputs": [
        {
          "data": {
            "text/html": [
              "<div>\n",
              "<style scoped>\n",
              "    .dataframe tbody tr th:only-of-type {\n",
              "        vertical-align: middle;\n",
              "    }\n",
              "\n",
              "    .dataframe tbody tr th {\n",
              "        vertical-align: top;\n",
              "    }\n",
              "\n",
              "    .dataframe thead th {\n",
              "        text-align: right;\n",
              "    }\n",
              "</style>\n",
              "<table border=\"1\" class=\"dataframe\">\n",
              "  <thead>\n",
              "    <tr style=\"text-align: right;\">\n",
              "      <th></th>\n",
              "      <th>is_canceled</th>\n",
              "      <th>lead_time</th>\n",
              "      <th>arrival_date_year</th>\n",
              "      <th>arrival_date_week_number</th>\n",
              "      <th>arrival_date_day_of_month</th>\n",
              "      <th>stays_in_weekend_nights</th>\n",
              "      <th>stays_in_week_nights</th>\n",
              "      <th>adults</th>\n",
              "      <th>children</th>\n",
              "      <th>babies</th>\n",
              "      <th>is_repeated_guest</th>\n",
              "      <th>previous_cancellations</th>\n",
              "      <th>previous_bookings_not_canceled</th>\n",
              "      <th>booking_changes</th>\n",
              "      <th>agent</th>\n",
              "      <th>company</th>\n",
              "      <th>days_in_waiting_list</th>\n",
              "      <th>adr</th>\n",
              "      <th>required_car_parking_spaces</th>\n",
              "      <th>total_of_special_requests</th>\n",
              "    </tr>\n",
              "  </thead>\n",
              "  <tbody>\n",
              "    <tr>\n",
              "      <th>count</th>\n",
              "      <td>119390.000000</td>\n",
              "      <td>119390.000000</td>\n",
              "      <td>119390.000000</td>\n",
              "      <td>119390.000000</td>\n",
              "      <td>119390.000000</td>\n",
              "      <td>119390.000000</td>\n",
              "      <td>119390.000000</td>\n",
              "      <td>119390.000000</td>\n",
              "      <td>119386.000000</td>\n",
              "      <td>119390.000000</td>\n",
              "      <td>119390.000000</td>\n",
              "      <td>119390.000000</td>\n",
              "      <td>119390.000000</td>\n",
              "      <td>119390.000000</td>\n",
              "      <td>103050.000000</td>\n",
              "      <td>6797.000000</td>\n",
              "      <td>119390.000000</td>\n",
              "      <td>119390.000000</td>\n",
              "      <td>119390.000000</td>\n",
              "      <td>119390.000000</td>\n",
              "    </tr>\n",
              "    <tr>\n",
              "      <th>mean</th>\n",
              "      <td>0.370416</td>\n",
              "      <td>104.011416</td>\n",
              "      <td>2016.156554</td>\n",
              "      <td>27.165173</td>\n",
              "      <td>15.798241</td>\n",
              "      <td>0.927599</td>\n",
              "      <td>2.500302</td>\n",
              "      <td>1.856403</td>\n",
              "      <td>0.103890</td>\n",
              "      <td>0.007949</td>\n",
              "      <td>0.031912</td>\n",
              "      <td>0.087118</td>\n",
              "      <td>0.137097</td>\n",
              "      <td>0.221124</td>\n",
              "      <td>86.693382</td>\n",
              "      <td>189.266735</td>\n",
              "      <td>2.321149</td>\n",
              "      <td>101.831122</td>\n",
              "      <td>0.062518</td>\n",
              "      <td>0.571363</td>\n",
              "    </tr>\n",
              "    <tr>\n",
              "      <th>std</th>\n",
              "      <td>0.482918</td>\n",
              "      <td>106.863097</td>\n",
              "      <td>0.707476</td>\n",
              "      <td>13.605138</td>\n",
              "      <td>8.780829</td>\n",
              "      <td>0.998613</td>\n",
              "      <td>1.908286</td>\n",
              "      <td>0.579261</td>\n",
              "      <td>0.398561</td>\n",
              "      <td>0.097436</td>\n",
              "      <td>0.175767</td>\n",
              "      <td>0.844336</td>\n",
              "      <td>1.497437</td>\n",
              "      <td>0.652306</td>\n",
              "      <td>110.774548</td>\n",
              "      <td>131.655015</td>\n",
              "      <td>17.594721</td>\n",
              "      <td>50.535790</td>\n",
              "      <td>0.245291</td>\n",
              "      <td>0.792798</td>\n",
              "    </tr>\n",
              "    <tr>\n",
              "      <th>min</th>\n",
              "      <td>0.000000</td>\n",
              "      <td>0.000000</td>\n",
              "      <td>2015.000000</td>\n",
              "      <td>1.000000</td>\n",
              "      <td>1.000000</td>\n",
              "      <td>0.000000</td>\n",
              "      <td>0.000000</td>\n",
              "      <td>0.000000</td>\n",
              "      <td>0.000000</td>\n",
              "      <td>0.000000</td>\n",
              "      <td>0.000000</td>\n",
              "      <td>0.000000</td>\n",
              "      <td>0.000000</td>\n",
              "      <td>0.000000</td>\n",
              "      <td>1.000000</td>\n",
              "      <td>6.000000</td>\n",
              "      <td>0.000000</td>\n",
              "      <td>-6.380000</td>\n",
              "      <td>0.000000</td>\n",
              "      <td>0.000000</td>\n",
              "    </tr>\n",
              "    <tr>\n",
              "      <th>25%</th>\n",
              "      <td>0.000000</td>\n",
              "      <td>18.000000</td>\n",
              "      <td>2016.000000</td>\n",
              "      <td>16.000000</td>\n",
              "      <td>8.000000</td>\n",
              "      <td>0.000000</td>\n",
              "      <td>1.000000</td>\n",
              "      <td>2.000000</td>\n",
              "      <td>0.000000</td>\n",
              "      <td>0.000000</td>\n",
              "      <td>0.000000</td>\n",
              "      <td>0.000000</td>\n",
              "      <td>0.000000</td>\n",
              "      <td>0.000000</td>\n",
              "      <td>9.000000</td>\n",
              "      <td>62.000000</td>\n",
              "      <td>0.000000</td>\n",
              "      <td>69.290000</td>\n",
              "      <td>0.000000</td>\n",
              "      <td>0.000000</td>\n",
              "    </tr>\n",
              "    <tr>\n",
              "      <th>50%</th>\n",
              "      <td>0.000000</td>\n",
              "      <td>69.000000</td>\n",
              "      <td>2016.000000</td>\n",
              "      <td>28.000000</td>\n",
              "      <td>16.000000</td>\n",
              "      <td>1.000000</td>\n",
              "      <td>2.000000</td>\n",
              "      <td>2.000000</td>\n",
              "      <td>0.000000</td>\n",
              "      <td>0.000000</td>\n",
              "      <td>0.000000</td>\n",
              "      <td>0.000000</td>\n",
              "      <td>0.000000</td>\n",
              "      <td>0.000000</td>\n",
              "      <td>14.000000</td>\n",
              "      <td>179.000000</td>\n",
              "      <td>0.000000</td>\n",
              "      <td>94.575000</td>\n",
              "      <td>0.000000</td>\n",
              "      <td>0.000000</td>\n",
              "    </tr>\n",
              "    <tr>\n",
              "      <th>75%</th>\n",
              "      <td>1.000000</td>\n",
              "      <td>160.000000</td>\n",
              "      <td>2017.000000</td>\n",
              "      <td>38.000000</td>\n",
              "      <td>23.000000</td>\n",
              "      <td>2.000000</td>\n",
              "      <td>3.000000</td>\n",
              "      <td>2.000000</td>\n",
              "      <td>0.000000</td>\n",
              "      <td>0.000000</td>\n",
              "      <td>0.000000</td>\n",
              "      <td>0.000000</td>\n",
              "      <td>0.000000</td>\n",
              "      <td>0.000000</td>\n",
              "      <td>229.000000</td>\n",
              "      <td>270.000000</td>\n",
              "      <td>0.000000</td>\n",
              "      <td>126.000000</td>\n",
              "      <td>0.000000</td>\n",
              "      <td>1.000000</td>\n",
              "    </tr>\n",
              "    <tr>\n",
              "      <th>max</th>\n",
              "      <td>1.000000</td>\n",
              "      <td>737.000000</td>\n",
              "      <td>2017.000000</td>\n",
              "      <td>53.000000</td>\n",
              "      <td>31.000000</td>\n",
              "      <td>19.000000</td>\n",
              "      <td>50.000000</td>\n",
              "      <td>55.000000</td>\n",
              "      <td>10.000000</td>\n",
              "      <td>10.000000</td>\n",
              "      <td>1.000000</td>\n",
              "      <td>26.000000</td>\n",
              "      <td>72.000000</td>\n",
              "      <td>21.000000</td>\n",
              "      <td>535.000000</td>\n",
              "      <td>543.000000</td>\n",
              "      <td>391.000000</td>\n",
              "      <td>5400.000000</td>\n",
              "      <td>8.000000</td>\n",
              "      <td>5.000000</td>\n",
              "    </tr>\n",
              "  </tbody>\n",
              "</table>\n",
              "</div>"
            ],
            "text/plain": [
              "         is_canceled      lead_time  arrival_date_year  \\\n",
              "count  119390.000000  119390.000000      119390.000000   \n",
              "mean        0.370416     104.011416        2016.156554   \n",
              "std         0.482918     106.863097           0.707476   \n",
              "min         0.000000       0.000000        2015.000000   \n",
              "25%         0.000000      18.000000        2016.000000   \n",
              "50%         0.000000      69.000000        2016.000000   \n",
              "75%         1.000000     160.000000        2017.000000   \n",
              "max         1.000000     737.000000        2017.000000   \n",
              "\n",
              "       arrival_date_week_number  arrival_date_day_of_month  \\\n",
              "count             119390.000000              119390.000000   \n",
              "mean                  27.165173                  15.798241   \n",
              "std                   13.605138                   8.780829   \n",
              "min                    1.000000                   1.000000   \n",
              "25%                   16.000000                   8.000000   \n",
              "50%                   28.000000                  16.000000   \n",
              "75%                   38.000000                  23.000000   \n",
              "max                   53.000000                  31.000000   \n",
              "\n",
              "       stays_in_weekend_nights  stays_in_week_nights         adults  \\\n",
              "count            119390.000000         119390.000000  119390.000000   \n",
              "mean                  0.927599              2.500302       1.856403   \n",
              "std                   0.998613              1.908286       0.579261   \n",
              "min                   0.000000              0.000000       0.000000   \n",
              "25%                   0.000000              1.000000       2.000000   \n",
              "50%                   1.000000              2.000000       2.000000   \n",
              "75%                   2.000000              3.000000       2.000000   \n",
              "max                  19.000000             50.000000      55.000000   \n",
              "\n",
              "            children         babies  is_repeated_guest  \\\n",
              "count  119386.000000  119390.000000      119390.000000   \n",
              "mean        0.103890       0.007949           0.031912   \n",
              "std         0.398561       0.097436           0.175767   \n",
              "min         0.000000       0.000000           0.000000   \n",
              "25%         0.000000       0.000000           0.000000   \n",
              "50%         0.000000       0.000000           0.000000   \n",
              "75%         0.000000       0.000000           0.000000   \n",
              "max        10.000000      10.000000           1.000000   \n",
              "\n",
              "       previous_cancellations  previous_bookings_not_canceled  \\\n",
              "count           119390.000000                   119390.000000   \n",
              "mean                 0.087118                        0.137097   \n",
              "std                  0.844336                        1.497437   \n",
              "min                  0.000000                        0.000000   \n",
              "25%                  0.000000                        0.000000   \n",
              "50%                  0.000000                        0.000000   \n",
              "75%                  0.000000                        0.000000   \n",
              "max                 26.000000                       72.000000   \n",
              "\n",
              "       booking_changes          agent      company  days_in_waiting_list  \\\n",
              "count    119390.000000  103050.000000  6797.000000         119390.000000   \n",
              "mean          0.221124      86.693382   189.266735              2.321149   \n",
              "std           0.652306     110.774548   131.655015             17.594721   \n",
              "min           0.000000       1.000000     6.000000              0.000000   \n",
              "25%           0.000000       9.000000    62.000000              0.000000   \n",
              "50%           0.000000      14.000000   179.000000              0.000000   \n",
              "75%           0.000000     229.000000   270.000000              0.000000   \n",
              "max          21.000000     535.000000   543.000000            391.000000   \n",
              "\n",
              "                 adr  required_car_parking_spaces  total_of_special_requests  \n",
              "count  119390.000000                119390.000000              119390.000000  \n",
              "mean      101.831122                     0.062518                   0.571363  \n",
              "std        50.535790                     0.245291                   0.792798  \n",
              "min        -6.380000                     0.000000                   0.000000  \n",
              "25%        69.290000                     0.000000                   0.000000  \n",
              "50%        94.575000                     0.000000                   0.000000  \n",
              "75%       126.000000                     0.000000                   1.000000  \n",
              "max      5400.000000                     8.000000                   5.000000  "
            ]
          },
          "execution_count": 5,
          "metadata": {},
          "output_type": "execute_result"
        }
      ],
      "source": [
        "df.describe()"
      ]
    },
    {
      "cell_type": "markdown",
      "metadata": {
        "id": "lJnHv3VMjjRE"
      },
      "source": [
        "Understands the data"
      ]
    },
    {
      "cell_type": "code",
      "execution_count": 6,
      "metadata": {
        "id": "BErbWduDzePD"
      },
      "outputs": [
        {
          "data": {
            "text/plain": [
              "(119390, 32)"
            ]
          },
          "execution_count": 6,
          "metadata": {},
          "output_type": "execute_result"
        }
      ],
      "source": [
        "df.shape"
      ]
    },
    {
      "cell_type": "code",
      "execution_count": 7,
      "metadata": {
        "colab": {
          "base_uri": "https://localhost:8080/"
        },
        "id": "HEDzgdW0io8t",
        "outputId": "63c6f100-a7bd-47f7-832b-5c16892421bb"
      },
      "outputs": [
        {
          "name": "stdout",
          "output_type": "stream",
          "text": [
            "<class 'pandas.core.frame.DataFrame'>\n",
            "RangeIndex: 119390 entries, 0 to 119389\n",
            "Data columns (total 32 columns):\n",
            " #   Column                          Non-Null Count   Dtype  \n",
            "---  ------                          --------------   -----  \n",
            " 0   hotel                           119390 non-null  object \n",
            " 1   is_canceled                     119390 non-null  int64  \n",
            " 2   lead_time                       119390 non-null  int64  \n",
            " 3   arrival_date_year               119390 non-null  int64  \n",
            " 4   arrival_date_month              119390 non-null  object \n",
            " 5   arrival_date_week_number        119390 non-null  int64  \n",
            " 6   arrival_date_day_of_month       119390 non-null  int64  \n",
            " 7   stays_in_weekend_nights         119390 non-null  int64  \n",
            " 8   stays_in_week_nights            119390 non-null  int64  \n",
            " 9   adults                          119390 non-null  int64  \n",
            " 10  children                        119386 non-null  float64\n",
            " 11  babies                          119390 non-null  int64  \n",
            " 12  meal                            119390 non-null  object \n",
            " 13  country                         118902 non-null  object \n",
            " 14  market_segment                  119390 non-null  object \n",
            " 15  distribution_channel            119390 non-null  object \n",
            " 16  is_repeated_guest               119390 non-null  int64  \n",
            " 17  previous_cancellations          119390 non-null  int64  \n",
            " 18  previous_bookings_not_canceled  119390 non-null  int64  \n",
            " 19  reserved_room_type              119390 non-null  object \n",
            " 20  assigned_room_type              119390 non-null  object \n",
            " 21  booking_changes                 119390 non-null  int64  \n",
            " 22  deposit_type                    119390 non-null  object \n",
            " 23  agent                           103050 non-null  float64\n",
            " 24  company                         6797 non-null    float64\n",
            " 25  days_in_waiting_list            119390 non-null  int64  \n",
            " 26  customer_type                   119390 non-null  object \n",
            " 27  adr                             119390 non-null  float64\n",
            " 28  required_car_parking_spaces     119390 non-null  int64  \n",
            " 29  total_of_special_requests       119390 non-null  int64  \n",
            " 30  reservation_status              119390 non-null  object \n",
            " 31  reservation_status_date         119390 non-null  object \n",
            "dtypes: float64(4), int64(16), object(12)\n",
            "memory usage: 29.1+ MB\n"
          ]
        }
      ],
      "source": [
        "df.info()"
      ]
    },
    {
      "cell_type": "code",
      "execution_count": 8,
      "metadata": {
        "id": "EdOSVSM0zQKd"
      },
      "outputs": [],
      "source": [
        "df=df.drop(['company','country'],axis=1)"
      ]
    },
    {
      "cell_type": "code",
      "execution_count": 9,
      "metadata": {
        "colab": {
          "base_uri": "https://localhost:8080/"
        },
        "id": "2pMcR7j5tui-",
        "outputId": "f3a34fc0-7963-4b92-a755-93fa741c66e4"
      },
      "outputs": [
        {
          "data": {
            "text/plain": [
              "(119390, 30)"
            ]
          },
          "execution_count": 9,
          "metadata": {},
          "output_type": "execute_result"
        }
      ],
      "source": [
        "df.shape"
      ]
    },
    {
      "cell_type": "markdown",
      "metadata": {
        "id": "UJ7nDTusj7aR"
      },
      "source": [
        "finding the the missing values in our dataset"
      ]
    },
    {
      "cell_type": "code",
      "execution_count": 10,
      "metadata": {
        "colab": {
          "base_uri": "https://localhost:8080/"
        },
        "id": "H3L-W92Qio6A",
        "outputId": "c1f17ed0-7ecb-4ba9-e54a-482448694808"
      },
      "outputs": [
        {
          "data": {
            "text/plain": [
              "hotel                                 0\n",
              "is_canceled                           0\n",
              "lead_time                             0\n",
              "arrival_date_year                     0\n",
              "arrival_date_month                    0\n",
              "arrival_date_week_number              0\n",
              "arrival_date_day_of_month             0\n",
              "stays_in_weekend_nights               0\n",
              "stays_in_week_nights                  0\n",
              "adults                                0\n",
              "children                              4\n",
              "babies                                0\n",
              "meal                                  0\n",
              "market_segment                        0\n",
              "distribution_channel                  0\n",
              "is_repeated_guest                     0\n",
              "previous_cancellations                0\n",
              "previous_bookings_not_canceled        0\n",
              "reserved_room_type                    0\n",
              "assigned_room_type                    0\n",
              "booking_changes                       0\n",
              "deposit_type                          0\n",
              "agent                             16340\n",
              "days_in_waiting_list                  0\n",
              "customer_type                         0\n",
              "adr                                   0\n",
              "required_car_parking_spaces           0\n",
              "total_of_special_requests             0\n",
              "reservation_status                    0\n",
              "reservation_status_date               0\n",
              "dtype: int64"
            ]
          },
          "execution_count": 10,
          "metadata": {},
          "output_type": "execute_result"
        }
      ],
      "source": [
        "df.isnull().sum()"
      ]
    },
    {
      "cell_type": "markdown",
      "metadata": {
        "id": "coKF4f-akdzb"
      },
      "source": [
        "fill the missing values by the help of using Simpleimputer"
      ]
    },
    {
      "cell_type": "code",
      "execution_count": 11,
      "metadata": {
        "id": "2PrHTCzYio3V"
      },
      "outputs": [],
      "source": [
        "# here we using the simple imputer to treat the missing values\n",
        "imputer = SimpleImputer(strategy=\"median\")\n",
        "df[['children']] = imputer.fit_transform(df[['children']])\n",
        "imputer = SimpleImputer(strategy=\"most_frequent\")\n",
        "df[['agent']] = imputer.fit_transform(df[['agent']])\n"
      ]
    },
    {
      "cell_type": "code",
      "execution_count": 12,
      "metadata": {
        "colab": {
          "base_uri": "https://localhost:8080/"
        },
        "id": "EF5YVc5XimfG",
        "outputId": "4641489e-f6fe-48eb-f522-12c4106dd2ef"
      },
      "outputs": [
        {
          "data": {
            "text/plain": [
              "hotel                             0\n",
              "is_canceled                       0\n",
              "lead_time                         0\n",
              "arrival_date_year                 0\n",
              "arrival_date_month                0\n",
              "arrival_date_week_number          0\n",
              "arrival_date_day_of_month         0\n",
              "stays_in_weekend_nights           0\n",
              "stays_in_week_nights              0\n",
              "adults                            0\n",
              "children                          0\n",
              "babies                            0\n",
              "meal                              0\n",
              "market_segment                    0\n",
              "distribution_channel              0\n",
              "is_repeated_guest                 0\n",
              "previous_cancellations            0\n",
              "previous_bookings_not_canceled    0\n",
              "reserved_room_type                0\n",
              "assigned_room_type                0\n",
              "booking_changes                   0\n",
              "deposit_type                      0\n",
              "agent                             0\n",
              "days_in_waiting_list              0\n",
              "customer_type                     0\n",
              "adr                               0\n",
              "required_car_parking_spaces       0\n",
              "total_of_special_requests         0\n",
              "reservation_status                0\n",
              "reservation_status_date           0\n",
              "dtype: int64"
            ]
          },
          "execution_count": 12,
          "metadata": {},
          "output_type": "execute_result"
        }
      ],
      "source": [
        "df.isnull().sum()"
      ]
    },
    {
      "cell_type": "markdown",
      "metadata": {
        "id": "d3R6GAda0Pl9"
      },
      "source": [
        "find the duplicate values"
      ]
    },
    {
      "cell_type": "code",
      "execution_count": 13,
      "metadata": {
        "colab": {
          "base_uri": "https://localhost:8080/"
        },
        "id": "9_HBGbLIimdJ",
        "outputId": "7da0d619-afb2-4447-d20d-e9f261d77be2"
      },
      "outputs": [
        {
          "data": {
            "text/plain": [
              "33763"
            ]
          },
          "execution_count": 13,
          "metadata": {},
          "output_type": "execute_result"
        }
      ],
      "source": [
        "df.duplicated().sum()"
      ]
    },
    {
      "cell_type": "code",
      "execution_count": 14,
      "metadata": {
        "id": "opnSR67CimbV"
      },
      "outputs": [],
      "source": [
        "df.drop_duplicates(inplace=True)"
      ]
    },
    {
      "cell_type": "code",
      "execution_count": 15,
      "metadata": {
        "colab": {
          "base_uri": "https://localhost:8080/"
        },
        "id": "ELyTrekFimYz",
        "outputId": "bcda9ab1-0341-4c61-8d16-8c09a86e70ac"
      },
      "outputs": [
        {
          "data": {
            "text/plain": [
              "0"
            ]
          },
          "execution_count": 15,
          "metadata": {},
          "output_type": "execute_result"
        }
      ],
      "source": [
        "df.duplicated().sum()"
      ]
    },
    {
      "cell_type": "code",
      "execution_count": 16,
      "metadata": {
        "colab": {
          "base_uri": "https://localhost:8080/"
        },
        "id": "7rmPmWTiimWx",
        "outputId": "4f89a8d4-10ed-416c-bdb2-432a792fbd73"
      },
      "outputs": [
        {
          "data": {
            "text/plain": [
              "(85627, 30)"
            ]
          },
          "execution_count": 16,
          "metadata": {},
          "output_type": "execute_result"
        }
      ],
      "source": [
        "df.shape"
      ]
    },
    {
      "cell_type": "markdown",
      "metadata": {
        "id": "iSELUSO25KTd"
      },
      "source": [
        " # Analyze the categorical data.\n"
      ]
    },
    {
      "cell_type": "code",
      "execution_count": 18,
      "metadata": {
        "colab": {
          "base_uri": "https://localhost:8080/",
          "height": 483
        },
        "id": "skCYvFXg5QVT",
        "outputId": "e4b17c6a-212e-4796-ffc4-97cc9672d0cf"
      },
      "outputs": [
        {
          "data": {
            "text/plain": [
              "<Axes: xlabel='reservation_status', ylabel='count'>"
            ]
          },
          "execution_count": 18,
          "metadata": {},
          "output_type": "execute_result"
        },
        {
          "data": {
            "image/png": "[encoded data removed]",
            "text/plain": [
              "<Figure size 1500x500 with 1 Axes>"
            ]
          },
          "metadata": {},
          "output_type": "display_data"
        }
      ],
      "source": [
        "import matplotlib.pyplot as plt # here we plot the graph to knoew the reservation status \n",
        "import seaborn as sns\n",
        "plt.figure(figsize=(15,5))\n",
        "sns.countplot(df,x='reservation_status')"
      ]
    },
    {
      "cell_type": "markdown",
      "metadata": {},
      "source": [
        "Most of the customer check out as compair to canceled reservation"
      ]
    },
    {
      "cell_type": "code",
      "execution_count": 57,
      "metadata": {
        "colab": {
          "base_uri": "https://localhost:8080/",
          "height": 483
        },
        "id": "wSVF_gP56XKB",
        "outputId": "0699853a-fa09-4c72-9d07-ecb632da748e"
      },
      "outputs": [
        {
          "data": {
            "text/plain": [
              "<Axes: xlabel='customer_type', ylabel='count'>"
            ]
          },
          "execution_count": 57,
          "metadata": {},
          "output_type": "execute_result"
        },
        {
          "data": {
            "image/png": "[encoded data removed]",
            "text/plain": [
              "<Figure size 1500x500 with 1 Axes>"
            ]
          },
          "metadata": {},
          "output_type": "display_data"
        }
      ],
      "source": [
        "plt.figure(figsize=(15,5)) # Here we plot the count plot to know the customer type \n",
        "sns.countplot(df,x='customer_type',hue='customer_type')"
      ]
    },
    {
      "cell_type": "markdown",
      "metadata": {},
      "source": [
        "This graph showing the Transient  type of customer is more as compaire to other"
      ]
    },
    {
      "cell_type": "code",
      "execution_count": 20,
      "metadata": {
        "colab": {
          "base_uri": "https://localhost:8080/",
          "height": 483
        },
        "id": "Ty5oF3Gc6XDN",
        "outputId": "262679a1-dc67-4772-db80-f1af5f89a9d2"
      },
      "outputs": [
        {
          "data": {
            "text/plain": [
              "<Axes: xlabel='deposit_type', ylabel='count'>"
            ]
          },
          "execution_count": 20,
          "metadata": {},
          "output_type": "execute_result"
        },
        {
          "data": {
            "image/png": "[encoded data removed]",
            "text/plain": [
              "<Figure size 1500x500 with 1 Axes>"
            ]
          },
          "metadata": {},
          "output_type": "display_data"
        }
      ],
      "source": [
        "plt.figure(figsize=(15,5)) # here  we plot the count plot to know the how much customer deposit type\n",
        "sns.countplot(df,x='deposit_type')"
      ]
    },
    {
      "cell_type": "markdown",
      "metadata": {},
      "source": [
        "Most of the customer no deposit"
      ]
    },
    {
      "cell_type": "code",
      "execution_count": 21,
      "metadata": {
        "colab": {
          "base_uri": "https://localhost:8080/",
          "height": 483
        },
        "id": "EMDqYO1I6W_Q",
        "outputId": "adc00ccd-2215-4d49-9030-43d2bdebfe11"
      },
      "outputs": [
        {
          "data": {
            "text/plain": [
              "<Axes: xlabel='assigned_room_type', ylabel='count'>"
            ]
          },
          "execution_count": 21,
          "metadata": {},
          "output_type": "execute_result"
        },
        {
          "data": {
            "image/png": "[encoded data removed]",
            "text/plain": [
              "<Figure size 1500x500 with 1 Axes>"
            ]
          },
          "metadata": {},
          "output_type": "display_data"
        }
      ],
      "source": [
        "plt.figure(figsize=(15,5)) # \n",
        "sns.countplot(df,x='assigned_room_type')"
      ]
    },
    {
      "cell_type": "code",
      "execution_count": 22,
      "metadata": {
        "colab": {
          "base_uri": "https://localhost:8080/",
          "height": 465
        },
        "id": "JS9zaRAF6W6b",
        "outputId": "9f84790b-4e2f-4557-e49b-44ffd1f18b87"
      },
      "outputs": [
        {
          "data": {
            "image/png": "[encoded data removed]",
            "text/plain": [
              "<Figure size 1500x500 with 1 Axes>"
            ]
          },
          "metadata": {},
          "output_type": "display_data"
        }
      ],
      "source": [
        "plt.figure(figsize=(15,5))\n",
        "\n",
        "sns.countplot(df,x='reserved_room_type',)\n",
        "plt.show()"
      ]
    },
    {
      "cell_type": "markdown",
      "metadata": {},
      "source": [
        "This plot providing the important insite for customer fevert room type most of the customer reserved the A type room"
      ]
    },
    {
      "cell_type": "code",
      "execution_count": 58,
      "metadata": {
        "colab": {
          "base_uri": "https://localhost:8080/",
          "height": 465
        },
        "id": "2Lscenuu6W1D",
        "outputId": "5a47319a-d155-4536-a9fa-14e6faed4f75"
      },
      "outputs": [
        {
          "data": {
            "image/png": "[encoded data removed]",
            "text/plain": [
              "<Figure size 1500x500 with 1 Axes>"
            ]
          },
          "metadata": {},
          "output_type": "display_data"
        }
      ],
      "source": [
        "plt.figure(figsize=(15,5)) # This plot is using to know how to come our cutmeor in our hotel \n",
        "\n",
        "sns.countplot(df,x='distribution_channel',)\n",
        "plt.show()"
      ]
    },
    {
      "cell_type": "markdown",
      "metadata": {},
      "source": [
        "This plot provide the information about the chennel of the customer how to reach our hotel \n",
        "most of the customer  come from the travel agent and travel offivce and secondly direct"
      ]
    },
    {
      "cell_type": "code",
      "execution_count": 59,
      "metadata": {
        "colab": {
          "base_uri": "https://localhost:8080/",
          "height": 465
        },
        "id": "056pyqPe6WqI",
        "outputId": "858db260-9e04-4dd9-9aa1-23d447cefd70"
      },
      "outputs": [
        {
          "data": {
            "image/png": "[encoded data removed]",
            "text/plain": [
              "<Figure size 1500x500 with 1 Axes>"
            ]
          },
          "metadata": {},
          "output_type": "display_data"
        }
      ],
      "source": [
        "plt.figure(figsize=(15,5)) # here we plot a count plot to know the what the market segment of the customer \n",
        "\n",
        "sns.countplot(df,x='market_segment',)\n",
        "plt.show()"
      ]
    },
    {
      "cell_type": "markdown",
      "metadata": {},
      "source": [
        "This  graph provide the most important insit abiut the how reach customer to our hotel so most of the traveler agent book our hotel online second largert ofline traveler agent Direct customer is less as compair to the traveler agent"
      ]
    },
    {
      "cell_type": "code",
      "execution_count": 25,
      "metadata": {
        "colab": {
          "base_uri": "https://localhost:8080/",
          "height": 465
        },
        "id": "xAe0EobA6WfP",
        "outputId": "43059971-8fcc-4733-9468-6a2addafdf50"
      },
      "outputs": [
        {
          "data": {
            "image/png": "[encoded data removed]",
            "text/plain": [
              "<Figure size 1500x500 with 1 Axes>"
            ]
          },
          "metadata": {},
          "output_type": "display_data"
        }
      ],
      "source": [
        "plt.figure(figsize=(15,5))\n",
        "\n",
        "sns.countplot(df,x='meal')\n",
        "plt.show()"
      ]
    },
    {
      "cell_type": "markdown",
      "metadata": {},
      "source": [
        "This plot giv me the insit regarding tio the custome which food most like  bb is the top food of our hotel "
      ]
    },
    {
      "cell_type": "code",
      "execution_count": 26,
      "metadata": {
        "colab": {
          "base_uri": "https://localhost:8080/",
          "height": 550
        },
        "id": "5ZBDMva56WbV",
        "outputId": "8921c1ef-b310-437e-b920-e402d2d9e6cd"
      },
      "outputs": [
        {
          "data": {
            "image/png": "[encoded data removed]",
            "text/plain": [
              "<Figure size 1500x500 with 1 Axes>"
            ]
          },
          "metadata": {},
          "output_type": "display_data"
        }
      ],
      "source": [
        "import matplotlib.pyplot as plt\n",
        "\n",
        "plt.figure(figsize=(15, 5))\n",
        "df['arrival_date_month'].value_counts().plot(kind='bar')\n",
        "plt.xlabel('Month')\n",
        "plt.ylabel('Count')\n",
        "plt.title('Arrival Date Month Distribution')\n",
        "plt.show()\n"
      ]
    },
    {
      "cell_type": "markdown",
      "metadata": {},
      "source": [
        "This plot provide the information about the customer which month most visited in our hotel in Augest is top month and january minimum customer come in our  hotel"
      ]
    },
    {
      "cell_type": "code",
      "execution_count": 60,
      "metadata": {
        "colab": {
          "base_uri": "https://localhost:8080/",
          "height": 487
        },
        "id": "wJaPXuFb7cs0",
        "outputId": "44755105-6997-447f-c3c9-a782b2dcd5d7"
      },
      "outputs": [
        {
          "data": {
            "image/png": "[encoded data removed]",
            "text/plain": [
              "<Figure size 1500x500 with 1 Axes>"
            ]
          },
          "metadata": {},
          "output_type": "display_data"
        }
      ],
      "source": [
        "plt.figure(figsize=(15,5))\n",
        "\n",
        "sns.countplot(df,x='arrival_date_month')\n",
        "plt.xlabel('Month')\n",
        "plt.ylabel('Count')\n",
        "plt.title('Arrival Date Month Distribution')\n",
        "plt.show()"
      ]
    },
    {
      "cell_type": "markdown",
      "metadata": {
        "id": "X_IeR4Qx9rpv"
      },
      "source": [
        "# spliting the dependent or independ features"
      ]
    },
    {
      "cell_type": "code",
      "execution_count": 17,
      "metadata": {
        "colab": {
          "base_uri": "https://localhost:8080/",
          "height": 342
        },
        "id": "aBODtyW_9C1d",
        "outputId": "09febe59-a6db-49cb-8852-29c2cf94d7d5"
      },
      "outputs": [
        {
          "data": {
            "text/html": [
              "<div>\n",
              "<style scoped>\n",
              "    .dataframe tbody tr th:only-of-type {\n",
              "        vertical-align: middle;\n",
              "    }\n",
              "\n",
              "    .dataframe tbody tr th {\n",
              "        vertical-align: top;\n",
              "    }\n",
              "\n",
              "    .dataframe thead th {\n",
              "        text-align: right;\n",
              "    }\n",
              "</style>\n",
              "<table border=\"1\" class=\"dataframe\">\n",
              "  <thead>\n",
              "    <tr style=\"text-align: right;\">\n",
              "      <th></th>\n",
              "      <th>hotel</th>\n",
              "      <th>lead_time</th>\n",
              "      <th>arrival_date_year</th>\n",
              "      <th>arrival_date_month</th>\n",
              "      <th>arrival_date_week_number</th>\n",
              "      <th>arrival_date_day_of_month</th>\n",
              "      <th>stays_in_weekend_nights</th>\n",
              "      <th>stays_in_week_nights</th>\n",
              "      <th>adults</th>\n",
              "      <th>children</th>\n",
              "      <th>...</th>\n",
              "      <th>booking_changes</th>\n",
              "      <th>deposit_type</th>\n",
              "      <th>agent</th>\n",
              "      <th>days_in_waiting_list</th>\n",
              "      <th>customer_type</th>\n",
              "      <th>adr</th>\n",
              "      <th>required_car_parking_spaces</th>\n",
              "      <th>total_of_special_requests</th>\n",
              "      <th>reservation_status</th>\n",
              "      <th>reservation_status_date</th>\n",
              "    </tr>\n",
              "  </thead>\n",
              "  <tbody>\n",
              "    <tr>\n",
              "      <th>0</th>\n",
              "      <td>Resort Hotel</td>\n",
              "      <td>342</td>\n",
              "      <td>2015</td>\n",
              "      <td>July</td>\n",
              "      <td>27</td>\n",
              "      <td>1</td>\n",
              "      <td>0</td>\n",
              "      <td>0</td>\n",
              "      <td>2</td>\n",
              "      <td>0.0</td>\n",
              "      <td>...</td>\n",
              "      <td>3</td>\n",
              "      <td>No Deposit</td>\n",
              "      <td>9.0</td>\n",
              "      <td>0</td>\n",
              "      <td>Transient</td>\n",
              "      <td>0.0</td>\n",
              "      <td>0</td>\n",
              "      <td>0</td>\n",
              "      <td>Check-Out</td>\n",
              "      <td>2015-07-01</td>\n",
              "    </tr>\n",
              "    <tr>\n",
              "      <th>1</th>\n",
              "      <td>Resort Hotel</td>\n",
              "      <td>737</td>\n",
              "      <td>2015</td>\n",
              "      <td>July</td>\n",
              "      <td>27</td>\n",
              "      <td>1</td>\n",
              "      <td>0</td>\n",
              "      <td>0</td>\n",
              "      <td>2</td>\n",
              "      <td>0.0</td>\n",
              "      <td>...</td>\n",
              "      <td>4</td>\n",
              "      <td>No Deposit</td>\n",
              "      <td>9.0</td>\n",
              "      <td>0</td>\n",
              "      <td>Transient</td>\n",
              "      <td>0.0</td>\n",
              "      <td>0</td>\n",
              "      <td>0</td>\n",
              "      <td>Check-Out</td>\n",
              "      <td>2015-07-01</td>\n",
              "    </tr>\n",
              "    <tr>\n",
              "      <th>2</th>\n",
              "      <td>Resort Hotel</td>\n",
              "      <td>7</td>\n",
              "      <td>2015</td>\n",
              "      <td>July</td>\n",
              "      <td>27</td>\n",
              "      <td>1</td>\n",
              "      <td>0</td>\n",
              "      <td>1</td>\n",
              "      <td>1</td>\n",
              "      <td>0.0</td>\n",
              "      <td>...</td>\n",
              "      <td>0</td>\n",
              "      <td>No Deposit</td>\n",
              "      <td>9.0</td>\n",
              "      <td>0</td>\n",
              "      <td>Transient</td>\n",
              "      <td>75.0</td>\n",
              "      <td>0</td>\n",
              "      <td>0</td>\n",
              "      <td>Check-Out</td>\n",
              "      <td>2015-07-02</td>\n",
              "    </tr>\n",
              "    <tr>\n",
              "      <th>3</th>\n",
              "      <td>Resort Hotel</td>\n",
              "      <td>13</td>\n",
              "      <td>2015</td>\n",
              "      <td>July</td>\n",
              "      <td>27</td>\n",
              "      <td>1</td>\n",
              "      <td>0</td>\n",
              "      <td>1</td>\n",
              "      <td>1</td>\n",
              "      <td>0.0</td>\n",
              "      <td>...</td>\n",
              "      <td>0</td>\n",
              "      <td>No Deposit</td>\n",
              "      <td>304.0</td>\n",
              "      <td>0</td>\n",
              "      <td>Transient</td>\n",
              "      <td>75.0</td>\n",
              "      <td>0</td>\n",
              "      <td>0</td>\n",
              "      <td>Check-Out</td>\n",
              "      <td>2015-07-02</td>\n",
              "    </tr>\n",
              "    <tr>\n",
              "      <th>4</th>\n",
              "      <td>Resort Hotel</td>\n",
              "      <td>14</td>\n",
              "      <td>2015</td>\n",
              "      <td>July</td>\n",
              "      <td>27</td>\n",
              "      <td>1</td>\n",
              "      <td>0</td>\n",
              "      <td>2</td>\n",
              "      <td>2</td>\n",
              "      <td>0.0</td>\n",
              "      <td>...</td>\n",
              "      <td>0</td>\n",
              "      <td>No Deposit</td>\n",
              "      <td>240.0</td>\n",
              "      <td>0</td>\n",
              "      <td>Transient</td>\n",
              "      <td>98.0</td>\n",
              "      <td>0</td>\n",
              "      <td>1</td>\n",
              "      <td>Check-Out</td>\n",
              "      <td>2015-07-03</td>\n",
              "    </tr>\n",
              "  </tbody>\n",
              "</table>\n",
              "<p>5 rows × 29 columns</p>\n",
              "</div>"
            ],
            "text/plain": [
              "          hotel  lead_time  arrival_date_year arrival_date_month  \\\n",
              "0  Resort Hotel        342               2015               July   \n",
              "1  Resort Hotel        737               2015               July   \n",
              "2  Resort Hotel          7               2015               July   \n",
              "3  Resort Hotel         13               2015               July   \n",
              "4  Resort Hotel         14               2015               July   \n",
              "\n",
              "   arrival_date_week_number  arrival_date_day_of_month  \\\n",
              "0                        27                          1   \n",
              "1                        27                          1   \n",
              "2                        27                          1   \n",
              "3                        27                          1   \n",
              "4                        27                          1   \n",
              "\n",
              "   stays_in_weekend_nights  stays_in_week_nights  adults  children  ...  \\\n",
              "0                        0                     0       2       0.0  ...   \n",
              "1                        0                     0       2       0.0  ...   \n",
              "2                        0                     1       1       0.0  ...   \n",
              "3                        0                     1       1       0.0  ...   \n",
              "4                        0                     2       2       0.0  ...   \n",
              "\n",
              "   booking_changes deposit_type  agent days_in_waiting_list  customer_type  \\\n",
              "0                3   No Deposit    9.0                    0      Transient   \n",
              "1                4   No Deposit    9.0                    0      Transient   \n",
              "2                0   No Deposit    9.0                    0      Transient   \n",
              "3                0   No Deposit  304.0                    0      Transient   \n",
              "4                0   No Deposit  240.0                    0      Transient   \n",
              "\n",
              "    adr  required_car_parking_spaces total_of_special_requests  \\\n",
              "0   0.0                            0                         0   \n",
              "1   0.0                            0                         0   \n",
              "2  75.0                            0                         0   \n",
              "3  75.0                            0                         0   \n",
              "4  98.0                            0                         1   \n",
              "\n",
              "  reservation_status  reservation_status_date  \n",
              "0          Check-Out               2015-07-01  \n",
              "1          Check-Out               2015-07-01  \n",
              "2          Check-Out               2015-07-02  \n",
              "3          Check-Out               2015-07-02  \n",
              "4          Check-Out               2015-07-03  \n",
              "\n",
              "[5 rows x 29 columns]"
            ]
          },
          "execution_count": 17,
          "metadata": {},
          "output_type": "execute_result"
        }
      ],
      "source": [
        "X = df.drop('is_canceled', axis=1)\n",
        "X.head()"
      ]
    },
    {
      "cell_type": "code",
      "execution_count": 18,
      "metadata": {},
      "outputs": [
        {
          "data": {
            "text/plain": [
              "0    0\n",
              "1    0\n",
              "2    0\n",
              "3    0\n",
              "4    0\n",
              "Name: is_canceled, dtype: int64"
            ]
          },
          "execution_count": 18,
          "metadata": {},
          "output_type": "execute_result"
        }
      ],
      "source": [
        "y=df['is_canceled']\n",
        "y.head()"
      ]
    },
    {
      "cell_type": "markdown",
      "metadata": {},
      "source": [
        "# here we segriget the numerical or categorical data "
      ]
    },
    {
      "cell_type": "code",
      "execution_count": 19,
      "metadata": {
        "id": "TJLcPyOpBbqO"
      },
      "outputs": [],
      "source": [
        "def data_type(dataset):\n",
        "    \"\"\"\n",
        "    Function to identify the numerical and categorical data columns\n",
        "    :param dataset: Dataframe\n",
        "    :return: list of numerical and categorical columns\n",
        "    \"\"\"\n",
        "    numerical = []\n",
        "    categorical = []\n",
        "    for i in dataset.columns:\n",
        "        if dataset[i].dtype == 'int64' or dataset[i].dtype == 'float64':\n",
        "            numerical.append(i)\n",
        "        else:\n",
        "            categorical.append(i)\n",
        "    return numerical, categorical\n",
        "\n",
        "\n",
        "numerical, categorical = data_type(X)"
      ]
    },
    {
      "cell_type": "code",
      "execution_count": 20,
      "metadata": {
        "id": "UJJFLSfTBZdV"
      },
      "outputs": [],
      "source": [
        "num_data=X[numerical]\n",
        "cat_data=X[categorical]"
      ]
    },
    {
      "cell_type": "code",
      "execution_count": 21,
      "metadata": {
        "colab": {
          "base_uri": "https://localhost:8080/",
          "height": 443
        },
        "id": "fue_u2oyH1R5",
        "outputId": "1658ce68-412c-4235-a420-f82ce83bf5f4"
      },
      "outputs": [
        {
          "data": {
            "text/html": [
              "<div>\n",
              "<style scoped>\n",
              "    .dataframe tbody tr th:only-of-type {\n",
              "        vertical-align: middle;\n",
              "    }\n",
              "\n",
              "    .dataframe tbody tr th {\n",
              "        vertical-align: top;\n",
              "    }\n",
              "\n",
              "    .dataframe thead th {\n",
              "        text-align: right;\n",
              "    }\n",
              "</style>\n",
              "<table border=\"1\" class=\"dataframe\">\n",
              "  <thead>\n",
              "    <tr style=\"text-align: right;\">\n",
              "      <th></th>\n",
              "      <th>lead_time</th>\n",
              "      <th>arrival_date_year</th>\n",
              "      <th>arrival_date_week_number</th>\n",
              "      <th>arrival_date_day_of_month</th>\n",
              "      <th>stays_in_weekend_nights</th>\n",
              "      <th>stays_in_week_nights</th>\n",
              "      <th>adults</th>\n",
              "      <th>children</th>\n",
              "      <th>babies</th>\n",
              "      <th>is_repeated_guest</th>\n",
              "      <th>previous_cancellations</th>\n",
              "      <th>previous_bookings_not_canceled</th>\n",
              "      <th>booking_changes</th>\n",
              "      <th>agent</th>\n",
              "      <th>days_in_waiting_list</th>\n",
              "      <th>adr</th>\n",
              "      <th>required_car_parking_spaces</th>\n",
              "      <th>total_of_special_requests</th>\n",
              "    </tr>\n",
              "  </thead>\n",
              "  <tbody>\n",
              "    <tr>\n",
              "      <th>0</th>\n",
              "      <td>342</td>\n",
              "      <td>2015</td>\n",
              "      <td>27</td>\n",
              "      <td>1</td>\n",
              "      <td>0</td>\n",
              "      <td>0</td>\n",
              "      <td>2</td>\n",
              "      <td>0.0</td>\n",
              "      <td>0</td>\n",
              "      <td>0</td>\n",
              "      <td>0</td>\n",
              "      <td>0</td>\n",
              "      <td>3</td>\n",
              "      <td>9.0</td>\n",
              "      <td>0</td>\n",
              "      <td>0.00</td>\n",
              "      <td>0</td>\n",
              "      <td>0</td>\n",
              "    </tr>\n",
              "    <tr>\n",
              "      <th>1</th>\n",
              "      <td>737</td>\n",
              "      <td>2015</td>\n",
              "      <td>27</td>\n",
              "      <td>1</td>\n",
              "      <td>0</td>\n",
              "      <td>0</td>\n",
              "      <td>2</td>\n",
              "      <td>0.0</td>\n",
              "      <td>0</td>\n",
              "      <td>0</td>\n",
              "      <td>0</td>\n",
              "      <td>0</td>\n",
              "      <td>4</td>\n",
              "      <td>9.0</td>\n",
              "      <td>0</td>\n",
              "      <td>0.00</td>\n",
              "      <td>0</td>\n",
              "      <td>0</td>\n",
              "    </tr>\n",
              "    <tr>\n",
              "      <th>2</th>\n",
              "      <td>7</td>\n",
              "      <td>2015</td>\n",
              "      <td>27</td>\n",
              "      <td>1</td>\n",
              "      <td>0</td>\n",
              "      <td>1</td>\n",
              "      <td>1</td>\n",
              "      <td>0.0</td>\n",
              "      <td>0</td>\n",
              "      <td>0</td>\n",
              "      <td>0</td>\n",
              "      <td>0</td>\n",
              "      <td>0</td>\n",
              "      <td>9.0</td>\n",
              "      <td>0</td>\n",
              "      <td>75.00</td>\n",
              "      <td>0</td>\n",
              "      <td>0</td>\n",
              "    </tr>\n",
              "    <tr>\n",
              "      <th>3</th>\n",
              "      <td>13</td>\n",
              "      <td>2015</td>\n",
              "      <td>27</td>\n",
              "      <td>1</td>\n",
              "      <td>0</td>\n",
              "      <td>1</td>\n",
              "      <td>1</td>\n",
              "      <td>0.0</td>\n",
              "      <td>0</td>\n",
              "      <td>0</td>\n",
              "      <td>0</td>\n",
              "      <td>0</td>\n",
              "      <td>0</td>\n",
              "      <td>304.0</td>\n",
              "      <td>0</td>\n",
              "      <td>75.00</td>\n",
              "      <td>0</td>\n",
              "      <td>0</td>\n",
              "    </tr>\n",
              "    <tr>\n",
              "      <th>4</th>\n",
              "      <td>14</td>\n",
              "      <td>2015</td>\n",
              "      <td>27</td>\n",
              "      <td>1</td>\n",
              "      <td>0</td>\n",
              "      <td>2</td>\n",
              "      <td>2</td>\n",
              "      <td>0.0</td>\n",
              "      <td>0</td>\n",
              "      <td>0</td>\n",
              "      <td>0</td>\n",
              "      <td>0</td>\n",
              "      <td>0</td>\n",
              "      <td>240.0</td>\n",
              "      <td>0</td>\n",
              "      <td>98.00</td>\n",
              "      <td>0</td>\n",
              "      <td>1</td>\n",
              "    </tr>\n",
              "    <tr>\n",
              "      <th>...</th>\n",
              "      <td>...</td>\n",
              "      <td>...</td>\n",
              "      <td>...</td>\n",
              "      <td>...</td>\n",
              "      <td>...</td>\n",
              "      <td>...</td>\n",
              "      <td>...</td>\n",
              "      <td>...</td>\n",
              "      <td>...</td>\n",
              "      <td>...</td>\n",
              "      <td>...</td>\n",
              "      <td>...</td>\n",
              "      <td>...</td>\n",
              "      <td>...</td>\n",
              "      <td>...</td>\n",
              "      <td>...</td>\n",
              "      <td>...</td>\n",
              "      <td>...</td>\n",
              "    </tr>\n",
              "    <tr>\n",
              "      <th>119385</th>\n",
              "      <td>23</td>\n",
              "      <td>2017</td>\n",
              "      <td>35</td>\n",
              "      <td>30</td>\n",
              "      <td>2</td>\n",
              "      <td>5</td>\n",
              "      <td>2</td>\n",
              "      <td>0.0</td>\n",
              "      <td>0</td>\n",
              "      <td>0</td>\n",
              "      <td>0</td>\n",
              "      <td>0</td>\n",
              "      <td>0</td>\n",
              "      <td>394.0</td>\n",
              "      <td>0</td>\n",
              "      <td>96.14</td>\n",
              "      <td>0</td>\n",
              "      <td>0</td>\n",
              "    </tr>\n",
              "    <tr>\n",
              "      <th>119386</th>\n",
              "      <td>102</td>\n",
              "      <td>2017</td>\n",
              "      <td>35</td>\n",
              "      <td>31</td>\n",
              "      <td>2</td>\n",
              "      <td>5</td>\n",
              "      <td>3</td>\n",
              "      <td>0.0</td>\n",
              "      <td>0</td>\n",
              "      <td>0</td>\n",
              "      <td>0</td>\n",
              "      <td>0</td>\n",
              "      <td>0</td>\n",
              "      <td>9.0</td>\n",
              "      <td>0</td>\n",
              "      <td>225.43</td>\n",
              "      <td>0</td>\n",
              "      <td>2</td>\n",
              "    </tr>\n",
              "    <tr>\n",
              "      <th>119387</th>\n",
              "      <td>34</td>\n",
              "      <td>2017</td>\n",
              "      <td>35</td>\n",
              "      <td>31</td>\n",
              "      <td>2</td>\n",
              "      <td>5</td>\n",
              "      <td>2</td>\n",
              "      <td>0.0</td>\n",
              "      <td>0</td>\n",
              "      <td>0</td>\n",
              "      <td>0</td>\n",
              "      <td>0</td>\n",
              "      <td>0</td>\n",
              "      <td>9.0</td>\n",
              "      <td>0</td>\n",
              "      <td>157.71</td>\n",
              "      <td>0</td>\n",
              "      <td>4</td>\n",
              "    </tr>\n",
              "    <tr>\n",
              "      <th>119388</th>\n",
              "      <td>109</td>\n",
              "      <td>2017</td>\n",
              "      <td>35</td>\n",
              "      <td>31</td>\n",
              "      <td>2</td>\n",
              "      <td>5</td>\n",
              "      <td>2</td>\n",
              "      <td>0.0</td>\n",
              "      <td>0</td>\n",
              "      <td>0</td>\n",
              "      <td>0</td>\n",
              "      <td>0</td>\n",
              "      <td>0</td>\n",
              "      <td>89.0</td>\n",
              "      <td>0</td>\n",
              "      <td>104.40</td>\n",
              "      <td>0</td>\n",
              "      <td>0</td>\n",
              "    </tr>\n",
              "    <tr>\n",
              "      <th>119389</th>\n",
              "      <td>205</td>\n",
              "      <td>2017</td>\n",
              "      <td>35</td>\n",
              "      <td>29</td>\n",
              "      <td>2</td>\n",
              "      <td>7</td>\n",
              "      <td>2</td>\n",
              "      <td>0.0</td>\n",
              "      <td>0</td>\n",
              "      <td>0</td>\n",
              "      <td>0</td>\n",
              "      <td>0</td>\n",
              "      <td>0</td>\n",
              "      <td>9.0</td>\n",
              "      <td>0</td>\n",
              "      <td>151.20</td>\n",
              "      <td>0</td>\n",
              "      <td>2</td>\n",
              "    </tr>\n",
              "  </tbody>\n",
              "</table>\n",
              "<p>85627 rows × 18 columns</p>\n",
              "</div>"
            ],
            "text/plain": [
              "        lead_time  arrival_date_year  arrival_date_week_number  \\\n",
              "0             342               2015                        27   \n",
              "1             737               2015                        27   \n",
              "2               7               2015                        27   \n",
              "3              13               2015                        27   \n",
              "4              14               2015                        27   \n",
              "...           ...                ...                       ...   \n",
              "119385         23               2017                        35   \n",
              "119386        102               2017                        35   \n",
              "119387         34               2017                        35   \n",
              "119388        109               2017                        35   \n",
              "119389        205               2017                        35   \n",
              "\n",
              "        arrival_date_day_of_month  stays_in_weekend_nights  \\\n",
              "0                               1                        0   \n",
              "1                               1                        0   \n",
              "2                               1                        0   \n",
              "3                               1                        0   \n",
              "4                               1                        0   \n",
              "...                           ...                      ...   \n",
              "119385                         30                        2   \n",
              "119386                         31                        2   \n",
              "119387                         31                        2   \n",
              "119388                         31                        2   \n",
              "119389                         29                        2   \n",
              "\n",
              "        stays_in_week_nights  adults  children  babies  is_repeated_guest  \\\n",
              "0                          0       2       0.0       0                  0   \n",
              "1                          0       2       0.0       0                  0   \n",
              "2                          1       1       0.0       0                  0   \n",
              "3                          1       1       0.0       0                  0   \n",
              "4                          2       2       0.0       0                  0   \n",
              "...                      ...     ...       ...     ...                ...   \n",
              "119385                     5       2       0.0       0                  0   \n",
              "119386                     5       3       0.0       0                  0   \n",
              "119387                     5       2       0.0       0                  0   \n",
              "119388                     5       2       0.0       0                  0   \n",
              "119389                     7       2       0.0       0                  0   \n",
              "\n",
              "        previous_cancellations  previous_bookings_not_canceled  \\\n",
              "0                            0                               0   \n",
              "1                            0                               0   \n",
              "2                            0                               0   \n",
              "3                            0                               0   \n",
              "4                            0                               0   \n",
              "...                        ...                             ...   \n",
              "119385                       0                               0   \n",
              "119386                       0                               0   \n",
              "119387                       0                               0   \n",
              "119388                       0                               0   \n",
              "119389                       0                               0   \n",
              "\n",
              "        booking_changes  agent  days_in_waiting_list     adr  \\\n",
              "0                     3    9.0                     0    0.00   \n",
              "1                     4    9.0                     0    0.00   \n",
              "2                     0    9.0                     0   75.00   \n",
              "3                     0  304.0                     0   75.00   \n",
              "4                     0  240.0                     0   98.00   \n",
              "...                 ...    ...                   ...     ...   \n",
              "119385                0  394.0                     0   96.14   \n",
              "119386                0    9.0                     0  225.43   \n",
              "119387                0    9.0                     0  157.71   \n",
              "119388                0   89.0                     0  104.40   \n",
              "119389                0    9.0                     0  151.20   \n",
              "\n",
              "        required_car_parking_spaces  total_of_special_requests  \n",
              "0                                 0                          0  \n",
              "1                                 0                          0  \n",
              "2                                 0                          0  \n",
              "3                                 0                          0  \n",
              "4                                 0                          1  \n",
              "...                             ...                        ...  \n",
              "119385                            0                          0  \n",
              "119386                            0                          2  \n",
              "119387                            0                          4  \n",
              "119388                            0                          0  \n",
              "119389                            0                          2  \n",
              "\n",
              "[85627 rows x 18 columns]"
            ]
          },
          "execution_count": 21,
          "metadata": {},
          "output_type": "execute_result"
        }
      ],
      "source": [
        "num_data# this is the numerical data content the onlly numericl values"
      ]
    },
    {
      "cell_type": "code",
      "execution_count": 22,
      "metadata": {
        "id": "6Ji5PjUzBZLq"
      },
      "outputs": [],
      "source": [
        "cat_column=cat_data.columns"
      ]
    },
    {
      "cell_type": "markdown",
      "metadata": {},
      "source": [
        "Now here we apply the one hot encoding to convert the numerical data to categorical (Encoding opration)"
      ]
    },
    {
      "cell_type": "code",
      "execution_count": 23,
      "metadata": {
        "id": "ziFtoZrCEYL6"
      },
      "outputs": [],
      "source": [
        "ohe = OneHotEncoder(drop='first',sparse_output=False,dtype=np.int32)\n"
      ]
    },
    {
      "cell_type": "code",
      "execution_count": 24,
      "metadata": {
        "id": "onBkJX7IEYCc"
      },
      "outputs": [],
      "source": [
        "X_new = ohe.fit_transform(X[cat_column])\n"
      ]
    },
    {
      "cell_type": "markdown",
      "metadata": {},
      "source": [
        "now here we convert the data into numericsl "
      ]
    },
    {
      "cell_type": "code",
      "execution_count": 25,
      "metadata": {
        "colab": {
          "base_uri": "https://localhost:8080/"
        },
        "id": "BoQiRUA3EXyV",
        "outputId": "26f00c8a-818e-4396-f9a0-359d60ef8e2a"
      },
      "outputs": [
        {
          "data": {
            "text/plain": [
              "array([[1, 0, 0, ..., 0, 0, 0],\n",
              "       [1, 0, 0, ..., 0, 0, 0],\n",
              "       [1, 0, 0, ..., 0, 0, 0],\n",
              "       ...,\n",
              "       [0, 1, 0, ..., 0, 0, 0],\n",
              "       [0, 1, 0, ..., 0, 0, 0],\n",
              "       [0, 1, 0, ..., 0, 0, 0]])"
            ]
          },
          "execution_count": 25,
          "metadata": {},
          "output_type": "execute_result"
        }
      ],
      "source": [
        "X_new"
      ]
    },
    {
      "cell_type": "markdown",
      "metadata": {},
      "source": [
        "# Analyze the numerical data.\n"
      ]
    },
    {
      "cell_type": "code",
      "execution_count": 26,
      "metadata": {},
      "outputs": [
        {
          "data": {
            "text/html": [
              "<div>\n",
              "<style scoped>\n",
              "    .dataframe tbody tr th:only-of-type {\n",
              "        vertical-align: middle;\n",
              "    }\n",
              "\n",
              "    .dataframe tbody tr th {\n",
              "        vertical-align: top;\n",
              "    }\n",
              "\n",
              "    .dataframe thead th {\n",
              "        text-align: right;\n",
              "    }\n",
              "</style>\n",
              "<table border=\"1\" class=\"dataframe\">\n",
              "  <thead>\n",
              "    <tr style=\"text-align: right;\">\n",
              "      <th></th>\n",
              "      <th>lead_time</th>\n",
              "      <th>arrival_date_year</th>\n",
              "      <th>arrival_date_week_number</th>\n",
              "      <th>arrival_date_day_of_month</th>\n",
              "      <th>stays_in_weekend_nights</th>\n",
              "      <th>stays_in_week_nights</th>\n",
              "      <th>adults</th>\n",
              "      <th>children</th>\n",
              "      <th>babies</th>\n",
              "      <th>is_repeated_guest</th>\n",
              "      <th>previous_cancellations</th>\n",
              "      <th>previous_bookings_not_canceled</th>\n",
              "      <th>booking_changes</th>\n",
              "      <th>agent</th>\n",
              "      <th>days_in_waiting_list</th>\n",
              "      <th>adr</th>\n",
              "      <th>required_car_parking_spaces</th>\n",
              "      <th>total_of_special_requests</th>\n",
              "    </tr>\n",
              "  </thead>\n",
              "  <tbody>\n",
              "    <tr>\n",
              "      <th>lead_time</th>\n",
              "      <td>1.000000</td>\n",
              "      <td>0.141047</td>\n",
              "      <td>0.101031</td>\n",
              "      <td>0.010157</td>\n",
              "      <td>0.240611</td>\n",
              "      <td>0.315102</td>\n",
              "      <td>0.143064</td>\n",
              "      <td>0.030863</td>\n",
              "      <td>-0.003242</td>\n",
              "      <td>-0.148298</td>\n",
              "      <td>0.005915</td>\n",
              "      <td>-0.079671</td>\n",
              "      <td>0.076860</td>\n",
              "      <td>0.074055</td>\n",
              "      <td>0.129243</td>\n",
              "      <td>0.026190</td>\n",
              "      <td>-0.086980</td>\n",
              "      <td>0.035295</td>\n",
              "    </tr>\n",
              "    <tr>\n",
              "      <th>arrival_date_year</th>\n",
              "      <td>0.141047</td>\n",
              "      <td>1.000000</td>\n",
              "      <td>-0.512192</td>\n",
              "      <td>-0.009233</td>\n",
              "      <td>0.005109</td>\n",
              "      <td>0.002596</td>\n",
              "      <td>0.036807</td>\n",
              "      <td>0.040082</td>\n",
              "      <td>-0.024113</td>\n",
              "      <td>0.023780</td>\n",
              "      <td>-0.055291</td>\n",
              "      <td>0.026975</td>\n",
              "      <td>0.009808</td>\n",
              "      <td>-0.007668</td>\n",
              "      <td>-0.025097</td>\n",
              "      <td>0.176113</td>\n",
              "      <td>-0.041678</td>\n",
              "      <td>0.062395</td>\n",
              "    </tr>\n",
              "    <tr>\n",
              "      <th>arrival_date_week_number</th>\n",
              "      <td>0.101031</td>\n",
              "      <td>-0.512192</td>\n",
              "      <td>1.000000</td>\n",
              "      <td>0.094622</td>\n",
              "      <td>0.026990</td>\n",
              "      <td>0.028893</td>\n",
              "      <td>0.024816</td>\n",
              "      <td>0.014027</td>\n",
              "      <td>0.014512</td>\n",
              "      <td>-0.037126</td>\n",
              "      <td>0.007369</td>\n",
              "      <td>-0.020933</td>\n",
              "      <td>0.012246</td>\n",
              "      <td>0.021291</td>\n",
              "      <td>0.015714</td>\n",
              "      <td>0.098601</td>\n",
              "      <td>0.009213</td>\n",
              "      <td>0.046954</td>\n",
              "    </tr>\n",
              "    <tr>\n",
              "      <th>arrival_date_day_of_month</th>\n",
              "      <td>0.010157</td>\n",
              "      <td>-0.009233</td>\n",
              "      <td>0.094622</td>\n",
              "      <td>1.000000</td>\n",
              "      <td>-0.016853</td>\n",
              "      <td>-0.027529</td>\n",
              "      <td>0.000063</td>\n",
              "      <td>0.016208</td>\n",
              "      <td>-0.000273</td>\n",
              "      <td>-0.003800</td>\n",
              "      <td>-0.008562</td>\n",
              "      <td>0.000233</td>\n",
              "      <td>0.006240</td>\n",
              "      <td>0.008332</td>\n",
              "      <td>0.005618</td>\n",
              "      <td>0.022506</td>\n",
              "      <td>0.009982</td>\n",
              "      <td>-0.000777</td>\n",
              "    </tr>\n",
              "    <tr>\n",
              "      <th>stays_in_weekend_nights</th>\n",
              "      <td>0.240611</td>\n",
              "      <td>0.005109</td>\n",
              "      <td>0.026990</td>\n",
              "      <td>-0.016853</td>\n",
              "      <td>1.000000</td>\n",
              "      <td>0.558877</td>\n",
              "      <td>0.087014</td>\n",
              "      <td>0.027734</td>\n",
              "      <td>0.013379</td>\n",
              "      <td>-0.108573</td>\n",
              "      <td>-0.021145</td>\n",
              "      <td>-0.057553</td>\n",
              "      <td>0.050952</td>\n",
              "      <td>0.156315</td>\n",
              "      <td>-0.029098</td>\n",
              "      <td>0.038785</td>\n",
              "      <td>-0.044118</td>\n",
              "      <td>0.031195</td>\n",
              "    </tr>\n",
              "    <tr>\n",
              "      <th>stays_in_week_nights</th>\n",
              "      <td>0.315102</td>\n",
              "      <td>0.002596</td>\n",
              "      <td>0.028893</td>\n",
              "      <td>-0.027529</td>\n",
              "      <td>0.558877</td>\n",
              "      <td>1.000000</td>\n",
              "      <td>0.093538</td>\n",
              "      <td>0.029441</td>\n",
              "      <td>0.015731</td>\n",
              "      <td>-0.115293</td>\n",
              "      <td>-0.019288</td>\n",
              "      <td>-0.059355</td>\n",
              "      <td>0.085014</td>\n",
              "      <td>0.186807</td>\n",
              "      <td>0.002207</td>\n",
              "      <td>0.053630</td>\n",
              "      <td>-0.045934</td>\n",
              "      <td>0.036286</td>\n",
              "    </tr>\n",
              "    <tr>\n",
              "      <th>adults</th>\n",
              "      <td>0.143064</td>\n",
              "      <td>0.036807</td>\n",
              "      <td>0.024816</td>\n",
              "      <td>0.000063</td>\n",
              "      <td>0.087014</td>\n",
              "      <td>0.093538</td>\n",
              "      <td>1.000000</td>\n",
              "      <td>0.020869</td>\n",
              "      <td>0.015845</td>\n",
              "      <td>-0.175439</td>\n",
              "      <td>-0.043325</td>\n",
              "      <td>-0.123144</td>\n",
              "      <td>-0.045408</td>\n",
              "      <td>0.023427</td>\n",
              "      <td>-0.013812</td>\n",
              "      <td>0.248980</td>\n",
              "      <td>0.004984</td>\n",
              "      <td>0.107001</td>\n",
              "    </tr>\n",
              "    <tr>\n",
              "      <th>children</th>\n",
              "      <td>0.030863</td>\n",
              "      <td>0.040082</td>\n",
              "      <td>0.014027</td>\n",
              "      <td>0.016208</td>\n",
              "      <td>0.027734</td>\n",
              "      <td>0.029441</td>\n",
              "      <td>0.020869</td>\n",
              "      <td>1.000000</td>\n",
              "      <td>0.016971</td>\n",
              "      <td>-0.046827</td>\n",
              "      <td>-0.019706</td>\n",
              "      <td>-0.030074</td>\n",
              "      <td>0.032166</td>\n",
              "      <td>0.040544</td>\n",
              "      <td>-0.019431</td>\n",
              "      <td>0.326061</td>\n",
              "      <td>0.035029</td>\n",
              "      <td>0.042655</td>\n",
              "    </tr>\n",
              "    <tr>\n",
              "      <th>babies</th>\n",
              "      <td>-0.003242</td>\n",
              "      <td>-0.024113</td>\n",
              "      <td>0.014512</td>\n",
              "      <td>-0.000273</td>\n",
              "      <td>0.013379</td>\n",
              "      <td>0.015731</td>\n",
              "      <td>0.015845</td>\n",
              "      <td>0.016971</td>\n",
              "      <td>1.000000</td>\n",
              "      <td>-0.013347</td>\n",
              "      <td>-0.005552</td>\n",
              "      <td>-0.009396</td>\n",
              "      <td>0.081535</td>\n",
              "      <td>0.029467</td>\n",
              "      <td>-0.006553</td>\n",
              "      <td>0.023054</td>\n",
              "      <td>0.030469</td>\n",
              "      <td>0.094920</td>\n",
              "    </tr>\n",
              "    <tr>\n",
              "      <th>is_repeated_guest</th>\n",
              "      <td>-0.148298</td>\n",
              "      <td>0.023780</td>\n",
              "      <td>-0.037126</td>\n",
              "      <td>-0.003800</td>\n",
              "      <td>-0.108573</td>\n",
              "      <td>-0.115293</td>\n",
              "      <td>-0.175439</td>\n",
              "      <td>-0.046827</td>\n",
              "      <td>-0.013347</td>\n",
              "      <td>1.000000</td>\n",
              "      <td>0.206302</td>\n",
              "      <td>0.441562</td>\n",
              "      <td>0.006471</td>\n",
              "      <td>-0.057703</td>\n",
              "      <td>-0.012123</td>\n",
              "      <td>-0.154878</td>\n",
              "      <td>0.071223</td>\n",
              "      <td>-0.002392</td>\n",
              "    </tr>\n",
              "    <tr>\n",
              "      <th>previous_cancellations</th>\n",
              "      <td>0.005915</td>\n",
              "      <td>-0.055291</td>\n",
              "      <td>0.007369</td>\n",
              "      <td>-0.008562</td>\n",
              "      <td>-0.021145</td>\n",
              "      <td>-0.019288</td>\n",
              "      <td>-0.043325</td>\n",
              "      <td>-0.019706</td>\n",
              "      <td>-0.005552</td>\n",
              "      <td>0.206302</td>\n",
              "      <td>1.000000</td>\n",
              "      <td>0.391958</td>\n",
              "      <td>-0.010235</td>\n",
              "      <td>-0.031629</td>\n",
              "      <td>0.004428</td>\n",
              "      <td>-0.050947</td>\n",
              "      <td>-0.003858</td>\n",
              "      <td>0.001381</td>\n",
              "    </tr>\n",
              "    <tr>\n",
              "      <th>previous_bookings_not_canceled</th>\n",
              "      <td>-0.079671</td>\n",
              "      <td>0.026975</td>\n",
              "      <td>-0.020933</td>\n",
              "      <td>0.000233</td>\n",
              "      <td>-0.057553</td>\n",
              "      <td>-0.059355</td>\n",
              "      <td>-0.123144</td>\n",
              "      <td>-0.030074</td>\n",
              "      <td>-0.009396</td>\n",
              "      <td>0.441562</td>\n",
              "      <td>0.391958</td>\n",
              "      <td>1.000000</td>\n",
              "      <td>0.005603</td>\n",
              "      <td>-0.053114</td>\n",
              "      <td>-0.005919</td>\n",
              "      <td>-0.086709</td>\n",
              "      <td>0.040377</td>\n",
              "      <td>0.026701</td>\n",
              "    </tr>\n",
              "    <tr>\n",
              "      <th>booking_changes</th>\n",
              "      <td>0.076860</td>\n",
              "      <td>0.009808</td>\n",
              "      <td>0.012246</td>\n",
              "      <td>0.006240</td>\n",
              "      <td>0.050952</td>\n",
              "      <td>0.085014</td>\n",
              "      <td>-0.045408</td>\n",
              "      <td>0.032166</td>\n",
              "      <td>0.081535</td>\n",
              "      <td>0.006471</td>\n",
              "      <td>-0.010235</td>\n",
              "      <td>0.005603</td>\n",
              "      <td>1.000000</td>\n",
              "      <td>0.025939</td>\n",
              "      <td>0.023039</td>\n",
              "      <td>0.003300</td>\n",
              "      <td>0.049527</td>\n",
              "      <td>0.018967</td>\n",
              "    </tr>\n",
              "    <tr>\n",
              "      <th>agent</th>\n",
              "      <td>0.074055</td>\n",
              "      <td>-0.007668</td>\n",
              "      <td>0.021291</td>\n",
              "      <td>0.008332</td>\n",
              "      <td>0.156315</td>\n",
              "      <td>0.186807</td>\n",
              "      <td>0.023427</td>\n",
              "      <td>0.040544</td>\n",
              "      <td>0.029467</td>\n",
              "      <td>-0.057703</td>\n",
              "      <td>-0.031629</td>\n",
              "      <td>-0.053114</td>\n",
              "      <td>0.025939</td>\n",
              "      <td>1.000000</td>\n",
              "      <td>-0.012909</td>\n",
              "      <td>0.003379</td>\n",
              "      <td>0.126393</td>\n",
              "      <td>0.029642</td>\n",
              "    </tr>\n",
              "    <tr>\n",
              "      <th>days_in_waiting_list</th>\n",
              "      <td>0.129243</td>\n",
              "      <td>-0.025097</td>\n",
              "      <td>0.015714</td>\n",
              "      <td>0.005618</td>\n",
              "      <td>-0.029098</td>\n",
              "      <td>0.002207</td>\n",
              "      <td>-0.013812</td>\n",
              "      <td>-0.019431</td>\n",
              "      <td>-0.006553</td>\n",
              "      <td>-0.012123</td>\n",
              "      <td>0.004428</td>\n",
              "      <td>-0.005919</td>\n",
              "      <td>0.023039</td>\n",
              "      <td>-0.012909</td>\n",
              "      <td>1.000000</td>\n",
              "      <td>-0.031469</td>\n",
              "      <td>-0.014877</td>\n",
              "      <td>-0.047285</td>\n",
              "    </tr>\n",
              "    <tr>\n",
              "      <th>adr</th>\n",
              "      <td>0.026190</td>\n",
              "      <td>0.176113</td>\n",
              "      <td>0.098601</td>\n",
              "      <td>0.022506</td>\n",
              "      <td>0.038785</td>\n",
              "      <td>0.053630</td>\n",
              "      <td>0.248980</td>\n",
              "      <td>0.326061</td>\n",
              "      <td>0.023054</td>\n",
              "      <td>-0.154878</td>\n",
              "      <td>-0.050947</td>\n",
              "      <td>-0.086709</td>\n",
              "      <td>0.003300</td>\n",
              "      <td>0.003379</td>\n",
              "      <td>-0.031469</td>\n",
              "      <td>1.000000</td>\n",
              "      <td>0.038242</td>\n",
              "      <td>0.135996</td>\n",
              "    </tr>\n",
              "    <tr>\n",
              "      <th>required_car_parking_spaces</th>\n",
              "      <td>-0.086980</td>\n",
              "      <td>-0.041678</td>\n",
              "      <td>0.009213</td>\n",
              "      <td>0.009982</td>\n",
              "      <td>-0.044118</td>\n",
              "      <td>-0.045934</td>\n",
              "      <td>0.004984</td>\n",
              "      <td>0.035029</td>\n",
              "      <td>0.030469</td>\n",
              "      <td>0.071223</td>\n",
              "      <td>-0.003858</td>\n",
              "      <td>0.040377</td>\n",
              "      <td>0.049527</td>\n",
              "      <td>0.126393</td>\n",
              "      <td>-0.014877</td>\n",
              "      <td>0.038242</td>\n",
              "      <td>1.000000</td>\n",
              "      <td>0.047310</td>\n",
              "    </tr>\n",
              "    <tr>\n",
              "      <th>total_of_special_requests</th>\n",
              "      <td>0.035295</td>\n",
              "      <td>0.062395</td>\n",
              "      <td>0.046954</td>\n",
              "      <td>-0.000777</td>\n",
              "      <td>0.031195</td>\n",
              "      <td>0.036286</td>\n",
              "      <td>0.107001</td>\n",
              "      <td>0.042655</td>\n",
              "      <td>0.094920</td>\n",
              "      <td>-0.002392</td>\n",
              "      <td>0.001381</td>\n",
              "      <td>0.026701</td>\n",
              "      <td>0.018967</td>\n",
              "      <td>0.029642</td>\n",
              "      <td>-0.047285</td>\n",
              "      <td>0.135996</td>\n",
              "      <td>0.047310</td>\n",
              "      <td>1.000000</td>\n",
              "    </tr>\n",
              "  </tbody>\n",
              "</table>\n",
              "</div>"
            ],
            "text/plain": [
              "                                lead_time  arrival_date_year  \\\n",
              "lead_time                        1.000000           0.141047   \n",
              "arrival_date_year                0.141047           1.000000   \n",
              "arrival_date_week_number         0.101031          -0.512192   \n",
              "arrival_date_day_of_month        0.010157          -0.009233   \n",
              "stays_in_weekend_nights          0.240611           0.005109   \n",
              "stays_in_week_nights             0.315102           0.002596   \n",
              "adults                           0.143064           0.036807   \n",
              "children                         0.030863           0.040082   \n",
              "babies                          -0.003242          -0.024113   \n",
              "is_repeated_guest               -0.148298           0.023780   \n",
              "previous_cancellations           0.005915          -0.055291   \n",
              "previous_bookings_not_canceled  -0.079671           0.026975   \n",
              "booking_changes                  0.076860           0.009808   \n",
              "agent                            0.074055          -0.007668   \n",
              "days_in_waiting_list             0.129243          -0.025097   \n",
              "adr                              0.026190           0.176113   \n",
              "required_car_parking_spaces     -0.086980          -0.041678   \n",
              "total_of_special_requests        0.035295           0.062395   \n",
              "\n",
              "                                arrival_date_week_number  \\\n",
              "lead_time                                       0.101031   \n",
              "arrival_date_year                              -0.512192   \n",
              "arrival_date_week_number                        1.000000   \n",
              "arrival_date_day_of_month                       0.094622   \n",
              "stays_in_weekend_nights                         0.026990   \n",
              "stays_in_week_nights                            0.028893   \n",
              "adults                                          0.024816   \n",
              "children                                        0.014027   \n",
              "babies                                          0.014512   \n",
              "is_repeated_guest                              -0.037126   \n",
              "previous_cancellations                          0.007369   \n",
              "previous_bookings_not_canceled                 -0.020933   \n",
              "booking_changes                                 0.012246   \n",
              "agent                                           0.021291   \n",
              "days_in_waiting_list                            0.015714   \n",
              "adr                                             0.098601   \n",
              "required_car_parking_spaces                     0.009213   \n",
              "total_of_special_requests                       0.046954   \n",
              "\n",
              "                                arrival_date_day_of_month  \\\n",
              "lead_time                                        0.010157   \n",
              "arrival_date_year                               -0.009233   \n",
              "arrival_date_week_number                         0.094622   \n",
              "arrival_date_day_of_month                        1.000000   \n",
              "stays_in_weekend_nights                         -0.016853   \n",
              "stays_in_week_nights                            -0.027529   \n",
              "adults                                           0.000063   \n",
              "children                                         0.016208   \n",
              "babies                                          -0.000273   \n",
              "is_repeated_guest                               -0.003800   \n",
              "previous_cancellations                          -0.008562   \n",
              "previous_bookings_not_canceled                   0.000233   \n",
              "booking_changes                                  0.006240   \n",
              "agent                                            0.008332   \n",
              "days_in_waiting_list                             0.005618   \n",
              "adr                                              0.022506   \n",
              "required_car_parking_spaces                      0.009982   \n",
              "total_of_special_requests                       -0.000777   \n",
              "\n",
              "                                stays_in_weekend_nights  stays_in_week_nights  \\\n",
              "lead_time                                      0.240611              0.315102   \n",
              "arrival_date_year                              0.005109              0.002596   \n",
              "arrival_date_week_number                       0.026990              0.028893   \n",
              "arrival_date_day_of_month                     -0.016853             -0.027529   \n",
              "stays_in_weekend_nights                        1.000000              0.558877   \n",
              "stays_in_week_nights                           0.558877              1.000000   \n",
              "adults                                         0.087014              0.093538   \n",
              "children                                       0.027734              0.029441   \n",
              "babies                                         0.013379              0.015731   \n",
              "is_repeated_guest                             -0.108573             -0.115293   \n",
              "previous_cancellations                        -0.021145             -0.019288   \n",
              "previous_bookings_not_canceled                -0.057553             -0.059355   \n",
              "booking_changes                                0.050952              0.085014   \n",
              "agent                                          0.156315              0.186807   \n",
              "days_in_waiting_list                          -0.029098              0.002207   \n",
              "adr                                            0.038785              0.053630   \n",
              "required_car_parking_spaces                   -0.044118             -0.045934   \n",
              "total_of_special_requests                      0.031195              0.036286   \n",
              "\n",
              "                                  adults  children    babies  \\\n",
              "lead_time                       0.143064  0.030863 -0.003242   \n",
              "arrival_date_year               0.036807  0.040082 -0.024113   \n",
              "arrival_date_week_number        0.024816  0.014027  0.014512   \n",
              "arrival_date_day_of_month       0.000063  0.016208 -0.000273   \n",
              "stays_in_weekend_nights         0.087014  0.027734  0.013379   \n",
              "stays_in_week_nights            0.093538  0.029441  0.015731   \n",
              "adults                          1.000000  0.020869  0.015845   \n",
              "children                        0.020869  1.000000  0.016971   \n",
              "babies                          0.015845  0.016971  1.000000   \n",
              "is_repeated_guest              -0.175439 -0.046827 -0.013347   \n",
              "previous_cancellations         -0.043325 -0.019706 -0.005552   \n",
              "previous_bookings_not_canceled -0.123144 -0.030074 -0.009396   \n",
              "booking_changes                -0.045408  0.032166  0.081535   \n",
              "agent                           0.023427  0.040544  0.029467   \n",
              "days_in_waiting_list           -0.013812 -0.019431 -0.006553   \n",
              "adr                             0.248980  0.326061  0.023054   \n",
              "required_car_parking_spaces     0.004984  0.035029  0.030469   \n",
              "total_of_special_requests       0.107001  0.042655  0.094920   \n",
              "\n",
              "                                is_repeated_guest  previous_cancellations  \\\n",
              "lead_time                               -0.148298                0.005915   \n",
              "arrival_date_year                        0.023780               -0.055291   \n",
              "arrival_date_week_number                -0.037126                0.007369   \n",
              "arrival_date_day_of_month               -0.003800               -0.008562   \n",
              "stays_in_weekend_nights                 -0.108573               -0.021145   \n",
              "stays_in_week_nights                    -0.115293               -0.019288   \n",
              "adults                                  -0.175439               -0.043325   \n",
              "children                                -0.046827               -0.019706   \n",
              "babies                                  -0.013347               -0.005552   \n",
              "is_repeated_guest                        1.000000                0.206302   \n",
              "previous_cancellations                   0.206302                1.000000   \n",
              "previous_bookings_not_canceled           0.441562                0.391958   \n",
              "booking_changes                          0.006471               -0.010235   \n",
              "agent                                   -0.057703               -0.031629   \n",
              "days_in_waiting_list                    -0.012123                0.004428   \n",
              "adr                                     -0.154878               -0.050947   \n",
              "required_car_parking_spaces              0.071223               -0.003858   \n",
              "total_of_special_requests               -0.002392                0.001381   \n",
              "\n",
              "                                previous_bookings_not_canceled  \\\n",
              "lead_time                                            -0.079671   \n",
              "arrival_date_year                                     0.026975   \n",
              "arrival_date_week_number                             -0.020933   \n",
              "arrival_date_day_of_month                             0.000233   \n",
              "stays_in_weekend_nights                              -0.057553   \n",
              "stays_in_week_nights                                 -0.059355   \n",
              "adults                                               -0.123144   \n",
              "children                                             -0.030074   \n",
              "babies                                               -0.009396   \n",
              "is_repeated_guest                                     0.441562   \n",
              "previous_cancellations                                0.391958   \n",
              "previous_bookings_not_canceled                        1.000000   \n",
              "booking_changes                                       0.005603   \n",
              "agent                                                -0.053114   \n",
              "days_in_waiting_list                                 -0.005919   \n",
              "adr                                                  -0.086709   \n",
              "required_car_parking_spaces                           0.040377   \n",
              "total_of_special_requests                             0.026701   \n",
              "\n",
              "                                booking_changes     agent  \\\n",
              "lead_time                              0.076860  0.074055   \n",
              "arrival_date_year                      0.009808 -0.007668   \n",
              "arrival_date_week_number               0.012246  0.021291   \n",
              "arrival_date_day_of_month              0.006240  0.008332   \n",
              "stays_in_weekend_nights                0.050952  0.156315   \n",
              "stays_in_week_nights                   0.085014  0.186807   \n",
              "adults                                -0.045408  0.023427   \n",
              "children                               0.032166  0.040544   \n",
              "babies                                 0.081535  0.029467   \n",
              "is_repeated_guest                      0.006471 -0.057703   \n",
              "previous_cancellations                -0.010235 -0.031629   \n",
              "previous_bookings_not_canceled         0.005603 -0.053114   \n",
              "booking_changes                        1.000000  0.025939   \n",
              "agent                                  0.025939  1.000000   \n",
              "days_in_waiting_list                   0.023039 -0.012909   \n",
              "adr                                    0.003300  0.003379   \n",
              "required_car_parking_spaces            0.049527  0.126393   \n",
              "total_of_special_requests              0.018967  0.029642   \n",
              "\n",
              "                                days_in_waiting_list       adr  \\\n",
              "lead_time                                   0.129243  0.026190   \n",
              "arrival_date_year                          -0.025097  0.176113   \n",
              "arrival_date_week_number                    0.015714  0.098601   \n",
              "arrival_date_day_of_month                   0.005618  0.022506   \n",
              "stays_in_weekend_nights                    -0.029098  0.038785   \n",
              "stays_in_week_nights                        0.002207  0.053630   \n",
              "adults                                     -0.013812  0.248980   \n",
              "children                                   -0.019431  0.326061   \n",
              "babies                                     -0.006553  0.023054   \n",
              "is_repeated_guest                          -0.012123 -0.154878   \n",
              "previous_cancellations                      0.004428 -0.050947   \n",
              "previous_bookings_not_canceled             -0.005919 -0.086709   \n",
              "booking_changes                             0.023039  0.003300   \n",
              "agent                                      -0.012909  0.003379   \n",
              "days_in_waiting_list                        1.000000 -0.031469   \n",
              "adr                                        -0.031469  1.000000   \n",
              "required_car_parking_spaces                -0.014877  0.038242   \n",
              "total_of_special_requests                  -0.047285  0.135996   \n",
              "\n",
              "                                required_car_parking_spaces  \\\n",
              "lead_time                                         -0.086980   \n",
              "arrival_date_year                                 -0.041678   \n",
              "arrival_date_week_number                           0.009213   \n",
              "arrival_date_day_of_month                          0.009982   \n",
              "stays_in_weekend_nights                           -0.044118   \n",
              "stays_in_week_nights                              -0.045934   \n",
              "adults                                             0.004984   \n",
              "children                                           0.035029   \n",
              "babies                                             0.030469   \n",
              "is_repeated_guest                                  0.071223   \n",
              "previous_cancellations                            -0.003858   \n",
              "previous_bookings_not_canceled                     0.040377   \n",
              "booking_changes                                    0.049527   \n",
              "agent                                              0.126393   \n",
              "days_in_waiting_list                              -0.014877   \n",
              "adr                                                0.038242   \n",
              "required_car_parking_spaces                        1.000000   \n",
              "total_of_special_requests                          0.047310   \n",
              "\n",
              "                                total_of_special_requests  \n",
              "lead_time                                        0.035295  \n",
              "arrival_date_year                                0.062395  \n",
              "arrival_date_week_number                         0.046954  \n",
              "arrival_date_day_of_month                       -0.000777  \n",
              "stays_in_weekend_nights                          0.031195  \n",
              "stays_in_week_nights                             0.036286  \n",
              "adults                                           0.107001  \n",
              "children                                         0.042655  \n",
              "babies                                           0.094920  \n",
              "is_repeated_guest                               -0.002392  \n",
              "previous_cancellations                           0.001381  \n",
              "previous_bookings_not_canceled                   0.026701  \n",
              "booking_changes                                  0.018967  \n",
              "agent                                            0.029642  \n",
              "days_in_waiting_list                            -0.047285  \n",
              "adr                                              0.135996  \n",
              "required_car_parking_spaces                      0.047310  \n",
              "total_of_special_requests                        1.000000  "
            ]
          },
          "execution_count": 26,
          "metadata": {},
          "output_type": "execute_result"
        }
      ],
      "source": [
        "cc=num_data.corr()\n",
        "cc"
      ]
    },
    {
      "cell_type": "code",
      "execution_count": 27,
      "metadata": {},
      "outputs": [
        {
          "data": {
            "image/png": "[encoded data removed]",
            "text/plain": [
              "<Figure size 640x480 with 2 Axes>"
            ]
          },
          "metadata": {},
          "output_type": "display_data"
        }
      ],
      "source": [
        "sns.heatmap(cc)\n",
        "plt.show()"
      ]
    },
    {
      "cell_type": "markdown",
      "metadata": {},
      "source": [
        "y=df['is_canceled']\n"
      ]
    },
    {
      "cell_type": "code",
      "execution_count": 29,
      "metadata": {},
      "outputs": [],
      "source": [
        "df['is_canceled'] = df['is_canceled'].astype(bool)\n"
      ]
    },
    {
      "cell_type": "code",
      "execution_count": 35,
      "metadata": {},
      "outputs": [
        {
          "data": {
            "text/plain": [
              "['lead_time',\n",
              " 'arrival_date_year',\n",
              " 'arrival_date_week_number',\n",
              " 'arrival_date_day_of_month',\n",
              " 'stays_in_weekend_nights',\n",
              " 'stays_in_week_nights',\n",
              " 'adults',\n",
              " 'children',\n",
              " 'babies',\n",
              " 'is_repeated_guest',\n",
              " 'previous_cancellations',\n",
              " 'previous_bookings_not_canceled',\n",
              " 'booking_changes',\n",
              " 'agent',\n",
              " 'days_in_waiting_list',\n",
              " 'adr',\n",
              " 'required_car_parking_spaces',\n",
              " 'total_of_special_requests']"
            ]
          },
          "execution_count": 35,
          "metadata": {},
          "output_type": "execute_result"
        }
      ],
      "source": [
        "numerical"
      ]
    },
    {
      "cell_type": "code",
      "execution_count": 42,
      "metadata": {},
      "outputs": [],
      "source": [
        "r=['lead_time',\n",
        " 'arrival_date_year',\n",
        " \n",
        " 'stays_in_week_nights',]"
      ]
    },
    {
      "cell_type": "code",
      "execution_count": 47,
      "metadata": {},
      "outputs": [
        {
          "data": {
            "text/plain": [
              "<seaborn.axisgrid.PairGrid at 0x12c843024d0>"
            ]
          },
          "execution_count": 47,
          "metadata": {},
          "output_type": "execute_result"
        },
        {
          "data": {
            "image/png": "[encoded data removed]",
            "text/plain": [
              "<Figure size 750x750 with 12 Axes>"
            ]
          },
          "metadata": {},
          "output_type": "display_data"
        }
      ],
      "source": [
        "sns.pairplot(df[r])"
      ]
    },
    {
      "cell_type": "code",
      "execution_count": 38,
      "metadata": {},
      "outputs": [
        {
          "data": {
            "text/plain": [
              "<Axes: xlabel='lead_time', ylabel='adr'>"
            ]
          },
          "execution_count": 38,
          "metadata": {},
          "output_type": "execute_result"
        },
        {
          "data": {
            "image/png": "[encoded data removed]",
            "text/plain": [
              "<Figure size 640x480 with 1 Axes>"
            ]
          },
          "metadata": {},
          "output_type": "display_data"
        }
      ],
      "source": [
        "\n",
        "sns.scatterplot(num_data,x='lead_time',y= 'adr'\n",
        ")"
      ]
    },
    {
      "cell_type": "code",
      "execution_count": 55,
      "metadata": {},
      "outputs": [
        {
          "data": {
            "text/html": [
              "<div>\n",
              "<style scoped>\n",
              "    .dataframe tbody tr th:only-of-type {\n",
              "        vertical-align: middle;\n",
              "    }\n",
              "\n",
              "    .dataframe tbody tr th {\n",
              "        vertical-align: top;\n",
              "    }\n",
              "\n",
              "    .dataframe thead th {\n",
              "        text-align: right;\n",
              "    }\n",
              "</style>\n",
              "<table border=\"1\" class=\"dataframe\">\n",
              "  <thead>\n",
              "    <tr style=\"text-align: right;\">\n",
              "      <th></th>\n",
              "      <th>lead_time</th>\n",
              "      <th>arrival_date_year</th>\n",
              "      <th>arrival_date_week_number</th>\n",
              "      <th>arrival_date_day_of_month</th>\n",
              "      <th>stays_in_weekend_nights</th>\n",
              "      <th>stays_in_week_nights</th>\n",
              "      <th>adults</th>\n",
              "      <th>children</th>\n",
              "      <th>babies</th>\n",
              "      <th>is_repeated_guest</th>\n",
              "      <th>previous_cancellations</th>\n",
              "      <th>previous_bookings_not_canceled</th>\n",
              "      <th>booking_changes</th>\n",
              "      <th>agent</th>\n",
              "      <th>days_in_waiting_list</th>\n",
              "      <th>adr</th>\n",
              "      <th>required_car_parking_spaces</th>\n",
              "      <th>total_of_special_requests</th>\n",
              "    </tr>\n",
              "  </thead>\n",
              "  <tbody>\n",
              "    <tr>\n",
              "      <th>count</th>\n",
              "      <td>85627.000000</td>\n",
              "      <td>85627.000000</td>\n",
              "      <td>85627.000000</td>\n",
              "      <td>85627.000000</td>\n",
              "      <td>85627.000000</td>\n",
              "      <td>85627.000000</td>\n",
              "      <td>85627.000000</td>\n",
              "      <td>85627.000000</td>\n",
              "      <td>85627.000000</td>\n",
              "      <td>85627.000000</td>\n",
              "      <td>85627.000000</td>\n",
              "      <td>85627.000000</td>\n",
              "      <td>85627.000000</td>\n",
              "      <td>85627.000000</td>\n",
              "      <td>85627.000000</td>\n",
              "      <td>85627.000000</td>\n",
              "      <td>85627.000000</td>\n",
              "      <td>85627.000000</td>\n",
              "    </tr>\n",
              "    <tr>\n",
              "      <th>mean</th>\n",
              "      <td>79.428942</td>\n",
              "      <td>2016.214103</td>\n",
              "      <td>26.823350</td>\n",
              "      <td>15.809231</td>\n",
              "      <td>1.009588</td>\n",
              "      <td>2.635232</td>\n",
              "      <td>1.881953</td>\n",
              "      <td>0.141159</td>\n",
              "      <td>0.011036</td>\n",
              "      <td>0.039824</td>\n",
              "      <td>0.031042</td>\n",
              "      <td>0.187768</td>\n",
              "      <td>0.270662</td>\n",
              "      <td>82.572051</td>\n",
              "      <td>0.685602</td>\n",
              "      <td>106.622436</td>\n",
              "      <td>0.085767</td>\n",
              "      <td>0.703633</td>\n",
              "    </tr>\n",
              "    <tr>\n",
              "      <th>std</th>\n",
              "      <td>85.505064</td>\n",
              "      <td>0.685409</td>\n",
              "      <td>13.666493</td>\n",
              "      <td>8.840652</td>\n",
              "      <td>1.034528</td>\n",
              "      <td>2.062800</td>\n",
              "      <td>0.626876</td>\n",
              "      <td>0.459598</td>\n",
              "      <td>0.114703</td>\n",
              "      <td>0.195546</td>\n",
              "      <td>0.372913</td>\n",
              "      <td>1.749484</td>\n",
              "      <td>0.729544</td>\n",
              "      <td>109.194411</td>\n",
              "      <td>9.615604</td>\n",
              "      <td>55.307263</td>\n",
              "      <td>0.283874</td>\n",
              "      <td>0.833527</td>\n",
              "    </tr>\n",
              "    <tr>\n",
              "      <th>min</th>\n",
              "      <td>0.000000</td>\n",
              "      <td>2015.000000</td>\n",
              "      <td>1.000000</td>\n",
              "      <td>1.000000</td>\n",
              "      <td>0.000000</td>\n",
              "      <td>0.000000</td>\n",
              "      <td>0.000000</td>\n",
              "      <td>0.000000</td>\n",
              "      <td>0.000000</td>\n",
              "      <td>0.000000</td>\n",
              "      <td>0.000000</td>\n",
              "      <td>0.000000</td>\n",
              "      <td>0.000000</td>\n",
              "      <td>1.000000</td>\n",
              "      <td>0.000000</td>\n",
              "      <td>-6.380000</td>\n",
              "      <td>0.000000</td>\n",
              "      <td>0.000000</td>\n",
              "    </tr>\n",
              "    <tr>\n",
              "      <th>25%</th>\n",
              "      <td>11.000000</td>\n",
              "      <td>2016.000000</td>\n",
              "      <td>16.000000</td>\n",
              "      <td>8.000000</td>\n",
              "      <td>0.000000</td>\n",
              "      <td>1.000000</td>\n",
              "      <td>2.000000</td>\n",
              "      <td>0.000000</td>\n",
              "      <td>0.000000</td>\n",
              "      <td>0.000000</td>\n",
              "      <td>0.000000</td>\n",
              "      <td>0.000000</td>\n",
              "      <td>0.000000</td>\n",
              "      <td>9.000000</td>\n",
              "      <td>0.000000</td>\n",
              "      <td>72.145000</td>\n",
              "      <td>0.000000</td>\n",
              "      <td>0.000000</td>\n",
              "    </tr>\n",
              "    <tr>\n",
              "      <th>50%</th>\n",
              "      <td>49.000000</td>\n",
              "      <td>2016.000000</td>\n",
              "      <td>27.000000</td>\n",
              "      <td>16.000000</td>\n",
              "      <td>1.000000</td>\n",
              "      <td>2.000000</td>\n",
              "      <td>2.000000</td>\n",
              "      <td>0.000000</td>\n",
              "      <td>0.000000</td>\n",
              "      <td>0.000000</td>\n",
              "      <td>0.000000</td>\n",
              "      <td>0.000000</td>\n",
              "      <td>0.000000</td>\n",
              "      <td>9.000000</td>\n",
              "      <td>0.000000</td>\n",
              "      <td>98.570000</td>\n",
              "      <td>0.000000</td>\n",
              "      <td>1.000000</td>\n",
              "    </tr>\n",
              "    <tr>\n",
              "      <th>75%</th>\n",
              "      <td>124.000000</td>\n",
              "      <td>2017.000000</td>\n",
              "      <td>37.000000</td>\n",
              "      <td>23.000000</td>\n",
              "      <td>2.000000</td>\n",
              "      <td>4.000000</td>\n",
              "      <td>2.000000</td>\n",
              "      <td>0.000000</td>\n",
              "      <td>0.000000</td>\n",
              "      <td>0.000000</td>\n",
              "      <td>0.000000</td>\n",
              "      <td>0.000000</td>\n",
              "      <td>0.000000</td>\n",
              "      <td>240.000000</td>\n",
              "      <td>0.000000</td>\n",
              "      <td>135.000000</td>\n",
              "      <td>0.000000</td>\n",
              "      <td>1.000000</td>\n",
              "    </tr>\n",
              "    <tr>\n",
              "      <th>max</th>\n",
              "      <td>737.000000</td>\n",
              "      <td>2017.000000</td>\n",
              "      <td>53.000000</td>\n",
              "      <td>31.000000</td>\n",
              "      <td>19.000000</td>\n",
              "      <td>50.000000</td>\n",
              "      <td>55.000000</td>\n",
              "      <td>10.000000</td>\n",
              "      <td>10.000000</td>\n",
              "      <td>1.000000</td>\n",
              "      <td>26.000000</td>\n",
              "      <td>72.000000</td>\n",
              "      <td>21.000000</td>\n",
              "      <td>535.000000</td>\n",
              "      <td>391.000000</td>\n",
              "      <td>5400.000000</td>\n",
              "      <td>8.000000</td>\n",
              "      <td>5.000000</td>\n",
              "    </tr>\n",
              "  </tbody>\n",
              "</table>\n",
              "</div>"
            ],
            "text/plain": [
              "          lead_time  arrival_date_year  arrival_date_week_number  \\\n",
              "count  85627.000000       85627.000000              85627.000000   \n",
              "mean      79.428942        2016.214103                 26.823350   \n",
              "std       85.505064           0.685409                 13.666493   \n",
              "min        0.000000        2015.000000                  1.000000   \n",
              "25%       11.000000        2016.000000                 16.000000   \n",
              "50%       49.000000        2016.000000                 27.000000   \n",
              "75%      124.000000        2017.000000                 37.000000   \n",
              "max      737.000000        2017.000000                 53.000000   \n",
              "\n",
              "       arrival_date_day_of_month  stays_in_weekend_nights  \\\n",
              "count               85627.000000             85627.000000   \n",
              "mean                   15.809231                 1.009588   \n",
              "std                     8.840652                 1.034528   \n",
              "min                     1.000000                 0.000000   \n",
              "25%                     8.000000                 0.000000   \n",
              "50%                    16.000000                 1.000000   \n",
              "75%                    23.000000                 2.000000   \n",
              "max                    31.000000                19.000000   \n",
              "\n",
              "       stays_in_week_nights        adults      children        babies  \\\n",
              "count          85627.000000  85627.000000  85627.000000  85627.000000   \n",
              "mean               2.635232      1.881953      0.141159      0.011036   \n",
              "std                2.062800      0.626876      0.459598      0.114703   \n",
              "min                0.000000      0.000000      0.000000      0.000000   \n",
              "25%                1.000000      2.000000      0.000000      0.000000   \n",
              "50%                2.000000      2.000000      0.000000      0.000000   \n",
              "75%                4.000000      2.000000      0.000000      0.000000   \n",
              "max               50.000000     55.000000     10.000000     10.000000   \n",
              "\n",
              "       is_repeated_guest  previous_cancellations  \\\n",
              "count       85627.000000            85627.000000   \n",
              "mean            0.039824                0.031042   \n",
              "std             0.195546                0.372913   \n",
              "min             0.000000                0.000000   \n",
              "25%             0.000000                0.000000   \n",
              "50%             0.000000                0.000000   \n",
              "75%             0.000000                0.000000   \n",
              "max             1.000000               26.000000   \n",
              "\n",
              "       previous_bookings_not_canceled  booking_changes         agent  \\\n",
              "count                    85627.000000     85627.000000  85627.000000   \n",
              "mean                         0.187768         0.270662     82.572051   \n",
              "std                          1.749484         0.729544    109.194411   \n",
              "min                          0.000000         0.000000      1.000000   \n",
              "25%                          0.000000         0.000000      9.000000   \n",
              "50%                          0.000000         0.000000      9.000000   \n",
              "75%                          0.000000         0.000000    240.000000   \n",
              "max                         72.000000        21.000000    535.000000   \n",
              "\n",
              "       days_in_waiting_list           adr  required_car_parking_spaces  \\\n",
              "count          85627.000000  85627.000000                 85627.000000   \n",
              "mean               0.685602    106.622436                     0.085767   \n",
              "std                9.615604     55.307263                     0.283874   \n",
              "min                0.000000     -6.380000                     0.000000   \n",
              "25%                0.000000     72.145000                     0.000000   \n",
              "50%                0.000000     98.570000                     0.000000   \n",
              "75%                0.000000    135.000000                     0.000000   \n",
              "max              391.000000   5400.000000                     8.000000   \n",
              "\n",
              "       total_of_special_requests  \n",
              "count               85627.000000  \n",
              "mean                    0.703633  \n",
              "std                     0.833527  \n",
              "min                     0.000000  \n",
              "25%                     0.000000  \n",
              "50%                     1.000000  \n",
              "75%                     1.000000  \n",
              "max                     5.000000  "
            ]
          },
          "execution_count": 55,
          "metadata": {},
          "output_type": "execute_result"
        }
      ],
      "source": [
        "num_data.describe()"
      ]
    },
    {
      "cell_type": "code",
      "execution_count": 48,
      "metadata": {},
      "outputs": [],
      "source": [
        "p=['adr','lead_time']\n"
      ]
    },
    {
      "cell_type": "code",
      "execution_count": 68,
      "metadata": {},
      "outputs": [
        {
          "data": {
            "text/plain": [
              "<Axes: >"
            ]
          },
          "execution_count": 68,
          "metadata": {},
          "output_type": "execute_result"
        },
        {
          "data": {
            "image/png": "[encoded data removed]",
            "text/plain": [
              "<Figure size 640x480 with 1 Axes>"
            ]
          },
          "metadata": {},
          "output_type": "display_data"
        }
      ],
      "source": [
        "sns.boxplot(num_data[p],)"
      ]
    },
    {
      "cell_type": "markdown",
      "metadata": {
        "id": "odkqBTW9PVS1"
      },
      "source": [
        "# Transform the numerical data using the Power transform.\n"
      ]
    },
    {
      "cell_type": "code",
      "execution_count": 69,
      "metadata": {
        "id": "jwURUlSZ-l2t"
      },
      "outputs": [],
      "source": [
        "p=['adr','lead_time']\n"
      ]
    },
    {
      "cell_type": "code",
      "execution_count": 70,
      "metadata": {
        "id": "HhnYN91pHZ3-"
      },
      "outputs": [
        {
          "name": "stderr",
          "output_type": "stream",
          "text": [
            "C:\\Users\\admin\\AppData\\Local\\Temp\\ipykernel_33636\\3380456742.py:2: FutureWarning: Setting an item of incompatible dtype is deprecated and will raise in a future error of pandas. Value '[ 1.83416499  2.79314295 -0.99645161 ... -0.17329011  0.69805097\n",
            "  1.28657678]' has dtype incompatible with int64, please explicitly cast to a compatible dtype first.\n",
            "  num_data.loc[:,p] = power_transformer.fit_transform(num_data.loc[:,p])\n"
          ]
        }
      ],
      "source": [
        "power_transformer = PowerTransformer()\n",
        "num_data.loc[:,p] = power_transformer.fit_transform(num_data.loc[:,p])"
      ]
    },
    {
      "cell_type": "code",
      "execution_count": 71,
      "metadata": {
        "colab": {
          "base_uri": "https://localhost:8080/",
          "height": 443
        },
        "id": "PMiu1dpvHkrL",
        "outputId": "e03b6a02-10b3-45b0-de15-1f38a34037a5"
      },
      "outputs": [
        {
          "data": {
            "text/html": [
              "<div>\n",
              "<style scoped>\n",
              "    .dataframe tbody tr th:only-of-type {\n",
              "        vertical-align: middle;\n",
              "    }\n",
              "\n",
              "    .dataframe tbody tr th {\n",
              "        vertical-align: top;\n",
              "    }\n",
              "\n",
              "    .dataframe thead th {\n",
              "        text-align: right;\n",
              "    }\n",
              "</style>\n",
              "<table border=\"1\" class=\"dataframe\">\n",
              "  <thead>\n",
              "    <tr style=\"text-align: right;\">\n",
              "      <th></th>\n",
              "      <th>lead_time</th>\n",
              "      <th>arrival_date_year</th>\n",
              "      <th>arrival_date_week_number</th>\n",
              "      <th>arrival_date_day_of_month</th>\n",
              "      <th>stays_in_weekend_nights</th>\n",
              "      <th>stays_in_week_nights</th>\n",
              "      <th>adults</th>\n",
              "      <th>children</th>\n",
              "      <th>babies</th>\n",
              "      <th>is_repeated_guest</th>\n",
              "      <th>previous_cancellations</th>\n",
              "      <th>previous_bookings_not_canceled</th>\n",
              "      <th>booking_changes</th>\n",
              "      <th>agent</th>\n",
              "      <th>days_in_waiting_list</th>\n",
              "      <th>adr</th>\n",
              "      <th>required_car_parking_spaces</th>\n",
              "      <th>total_of_special_requests</th>\n",
              "    </tr>\n",
              "  </thead>\n",
              "  <tbody>\n",
              "    <tr>\n",
              "      <th>0</th>\n",
              "      <td>1.834165</td>\n",
              "      <td>2015</td>\n",
              "      <td>27</td>\n",
              "      <td>1</td>\n",
              "      <td>0</td>\n",
              "      <td>0</td>\n",
              "      <td>2</td>\n",
              "      <td>0.0</td>\n",
              "      <td>0</td>\n",
              "      <td>0</td>\n",
              "      <td>0</td>\n",
              "      <td>0</td>\n",
              "      <td>3</td>\n",
              "      <td>9.0</td>\n",
              "      <td>0</td>\n",
              "      <td>-2.937950</td>\n",
              "      <td>0</td>\n",
              "      <td>0</td>\n",
              "    </tr>\n",
              "    <tr>\n",
              "      <th>1</th>\n",
              "      <td>2.793143</td>\n",
              "      <td>2015</td>\n",
              "      <td>27</td>\n",
              "      <td>1</td>\n",
              "      <td>0</td>\n",
              "      <td>0</td>\n",
              "      <td>2</td>\n",
              "      <td>0.0</td>\n",
              "      <td>0</td>\n",
              "      <td>0</td>\n",
              "      <td>0</td>\n",
              "      <td>0</td>\n",
              "      <td>4</td>\n",
              "      <td>9.0</td>\n",
              "      <td>0</td>\n",
              "      <td>-2.937950</td>\n",
              "      <td>0</td>\n",
              "      <td>0</td>\n",
              "    </tr>\n",
              "    <tr>\n",
              "      <th>2</th>\n",
              "      <td>-0.996452</td>\n",
              "      <td>2015</td>\n",
              "      <td>27</td>\n",
              "      <td>1</td>\n",
              "      <td>0</td>\n",
              "      <td>1</td>\n",
              "      <td>1</td>\n",
              "      <td>0.0</td>\n",
              "      <td>0</td>\n",
              "      <td>0</td>\n",
              "      <td>0</td>\n",
              "      <td>0</td>\n",
              "      <td>0</td>\n",
              "      <td>9.0</td>\n",
              "      <td>0</td>\n",
              "      <td>-0.525412</td>\n",
              "      <td>0</td>\n",
              "      <td>0</td>\n",
              "    </tr>\n",
              "    <tr>\n",
              "      <th>3</th>\n",
              "      <td>-0.717889</td>\n",
              "      <td>2015</td>\n",
              "      <td>27</td>\n",
              "      <td>1</td>\n",
              "      <td>0</td>\n",
              "      <td>1</td>\n",
              "      <td>1</td>\n",
              "      <td>0.0</td>\n",
              "      <td>0</td>\n",
              "      <td>0</td>\n",
              "      <td>0</td>\n",
              "      <td>0</td>\n",
              "      <td>0</td>\n",
              "      <td>304.0</td>\n",
              "      <td>0</td>\n",
              "      <td>-0.525412</td>\n",
              "      <td>0</td>\n",
              "      <td>0</td>\n",
              "    </tr>\n",
              "    <tr>\n",
              "      <th>4</th>\n",
              "      <td>-0.680898</td>\n",
              "      <td>2015</td>\n",
              "      <td>27</td>\n",
              "      <td>1</td>\n",
              "      <td>0</td>\n",
              "      <td>2</td>\n",
              "      <td>2</td>\n",
              "      <td>0.0</td>\n",
              "      <td>0</td>\n",
              "      <td>0</td>\n",
              "      <td>0</td>\n",
              "      <td>0</td>\n",
              "      <td>0</td>\n",
              "      <td>240.0</td>\n",
              "      <td>0</td>\n",
              "      <td>-0.063392</td>\n",
              "      <td>0</td>\n",
              "      <td>1</td>\n",
              "    </tr>\n",
              "    <tr>\n",
              "      <th>...</th>\n",
              "      <td>...</td>\n",
              "      <td>...</td>\n",
              "      <td>...</td>\n",
              "      <td>...</td>\n",
              "      <td>...</td>\n",
              "      <td>...</td>\n",
              "      <td>...</td>\n",
              "      <td>...</td>\n",
              "      <td>...</td>\n",
              "      <td>...</td>\n",
              "      <td>...</td>\n",
              "      <td>...</td>\n",
              "      <td>...</td>\n",
              "      <td>...</td>\n",
              "      <td>...</td>\n",
              "      <td>...</td>\n",
              "      <td>...</td>\n",
              "      <td>...</td>\n",
              "    </tr>\n",
              "    <tr>\n",
              "      <th>119385</th>\n",
              "      <td>-0.412033</td>\n",
              "      <td>2017</td>\n",
              "      <td>35</td>\n",
              "      <td>30</td>\n",
              "      <td>2</td>\n",
              "      <td>5</td>\n",
              "      <td>2</td>\n",
              "      <td>0.0</td>\n",
              "      <td>0</td>\n",
              "      <td>0</td>\n",
              "      <td>0</td>\n",
              "      <td>0</td>\n",
              "      <td>0</td>\n",
              "      <td>394.0</td>\n",
              "      <td>0</td>\n",
              "      <td>-0.099122</td>\n",
              "      <td>0</td>\n",
              "      <td>0</td>\n",
              "    </tr>\n",
              "    <tr>\n",
              "      <th>119386</th>\n",
              "      <td>0.641321</td>\n",
              "      <td>2017</td>\n",
              "      <td>35</td>\n",
              "      <td>31</td>\n",
              "      <td>2</td>\n",
              "      <td>5</td>\n",
              "      <td>3</td>\n",
              "      <td>0.0</td>\n",
              "      <td>0</td>\n",
              "      <td>0</td>\n",
              "      <td>0</td>\n",
              "      <td>0</td>\n",
              "      <td>0</td>\n",
              "      <td>9.0</td>\n",
              "      <td>0</td>\n",
              "      <td>1.986133</td>\n",
              "      <td>0</td>\n",
              "      <td>2</td>\n",
              "    </tr>\n",
              "    <tr>\n",
              "      <th>119387</th>\n",
              "      <td>-0.173290</td>\n",
              "      <td>2017</td>\n",
              "      <td>35</td>\n",
              "      <td>31</td>\n",
              "      <td>2</td>\n",
              "      <td>5</td>\n",
              "      <td>2</td>\n",
              "      <td>0.0</td>\n",
              "      <td>0</td>\n",
              "      <td>0</td>\n",
              "      <td>0</td>\n",
              "      <td>0</td>\n",
              "      <td>0</td>\n",
              "      <td>9.0</td>\n",
              "      <td>0</td>\n",
              "      <td>0.975882</td>\n",
              "      <td>0</td>\n",
              "      <td>4</td>\n",
              "    </tr>\n",
              "    <tr>\n",
              "      <th>119388</th>\n",
              "      <td>0.698051</td>\n",
              "      <td>2017</td>\n",
              "      <td>35</td>\n",
              "      <td>31</td>\n",
              "      <td>2</td>\n",
              "      <td>5</td>\n",
              "      <td>2</td>\n",
              "      <td>0.0</td>\n",
              "      <td>0</td>\n",
              "      <td>0</td>\n",
              "      <td>0</td>\n",
              "      <td>0</td>\n",
              "      <td>0</td>\n",
              "      <td>89.0</td>\n",
              "      <td>0</td>\n",
              "      <td>0.057654</td>\n",
              "      <td>0</td>\n",
              "      <td>0</td>\n",
              "    </tr>\n",
              "    <tr>\n",
              "      <th>119389</th>\n",
              "      <td>1.286577</td>\n",
              "      <td>2017</td>\n",
              "      <td>35</td>\n",
              "      <td>29</td>\n",
              "      <td>2</td>\n",
              "      <td>7</td>\n",
              "      <td>2</td>\n",
              "      <td>0.0</td>\n",
              "      <td>0</td>\n",
              "      <td>0</td>\n",
              "      <td>0</td>\n",
              "      <td>0</td>\n",
              "      <td>0</td>\n",
              "      <td>9.0</td>\n",
              "      <td>0</td>\n",
              "      <td>0.870845</td>\n",
              "      <td>0</td>\n",
              "      <td>2</td>\n",
              "    </tr>\n",
              "  </tbody>\n",
              "</table>\n",
              "<p>85627 rows × 18 columns</p>\n",
              "</div>"
            ],
            "text/plain": [
              "        lead_time  arrival_date_year  arrival_date_week_number  \\\n",
              "0        1.834165               2015                        27   \n",
              "1        2.793143               2015                        27   \n",
              "2       -0.996452               2015                        27   \n",
              "3       -0.717889               2015                        27   \n",
              "4       -0.680898               2015                        27   \n",
              "...           ...                ...                       ...   \n",
              "119385  -0.412033               2017                        35   \n",
              "119386   0.641321               2017                        35   \n",
              "119387  -0.173290               2017                        35   \n",
              "119388   0.698051               2017                        35   \n",
              "119389   1.286577               2017                        35   \n",
              "\n",
              "        arrival_date_day_of_month  stays_in_weekend_nights  \\\n",
              "0                               1                        0   \n",
              "1                               1                        0   \n",
              "2                               1                        0   \n",
              "3                               1                        0   \n",
              "4                               1                        0   \n",
              "...                           ...                      ...   \n",
              "119385                         30                        2   \n",
              "119386                         31                        2   \n",
              "119387                         31                        2   \n",
              "119388                         31                        2   \n",
              "119389                         29                        2   \n",
              "\n",
              "        stays_in_week_nights  adults  children  babies  is_repeated_guest  \\\n",
              "0                          0       2       0.0       0                  0   \n",
              "1                          0       2       0.0       0                  0   \n",
              "2                          1       1       0.0       0                  0   \n",
              "3                          1       1       0.0       0                  0   \n",
              "4                          2       2       0.0       0                  0   \n",
              "...                      ...     ...       ...     ...                ...   \n",
              "119385                     5       2       0.0       0                  0   \n",
              "119386                     5       3       0.0       0                  0   \n",
              "119387                     5       2       0.0       0                  0   \n",
              "119388                     5       2       0.0       0                  0   \n",
              "119389                     7       2       0.0       0                  0   \n",
              "\n",
              "        previous_cancellations  previous_bookings_not_canceled  \\\n",
              "0                            0                               0   \n",
              "1                            0                               0   \n",
              "2                            0                               0   \n",
              "3                            0                               0   \n",
              "4                            0                               0   \n",
              "...                        ...                             ...   \n",
              "119385                       0                               0   \n",
              "119386                       0                               0   \n",
              "119387                       0                               0   \n",
              "119388                       0                               0   \n",
              "119389                       0                               0   \n",
              "\n",
              "        booking_changes  agent  days_in_waiting_list       adr  \\\n",
              "0                     3    9.0                     0 -2.937950   \n",
              "1                     4    9.0                     0 -2.937950   \n",
              "2                     0    9.0                     0 -0.525412   \n",
              "3                     0  304.0                     0 -0.525412   \n",
              "4                     0  240.0                     0 -0.063392   \n",
              "...                 ...    ...                   ...       ...   \n",
              "119385                0  394.0                     0 -0.099122   \n",
              "119386                0    9.0                     0  1.986133   \n",
              "119387                0    9.0                     0  0.975882   \n",
              "119388                0   89.0                     0  0.057654   \n",
              "119389                0    9.0                     0  0.870845   \n",
              "\n",
              "        required_car_parking_spaces  total_of_special_requests  \n",
              "0                                 0                          0  \n",
              "1                                 0                          0  \n",
              "2                                 0                          0  \n",
              "3                                 0                          0  \n",
              "4                                 0                          1  \n",
              "...                             ...                        ...  \n",
              "119385                            0                          0  \n",
              "119386                            0                          2  \n",
              "119387                            0                          4  \n",
              "119388                            0                          0  \n",
              "119389                            0                          2  \n",
              "\n",
              "[85627 rows x 18 columns]"
            ]
          },
          "execution_count": 71,
          "metadata": {},
          "output_type": "execute_result"
        }
      ],
      "source": [
        "num_data"
      ]
    },
    {
      "cell_type": "markdown",
      "metadata": {
        "id": "N9Kp8mZtPJWH"
      },
      "source": [
        "# scale the data"
      ]
    },
    {
      "cell_type": "code",
      "execution_count": 72,
      "metadata": {
        "colab": {
          "base_uri": "https://localhost:8080/"
        },
        "id": "yj3bt9IKCK-P",
        "outputId": "a4b6324f-ec93-4e6d-e06a-c508a5dbfeb1"
      },
      "outputs": [
        {
          "data": {
            "text/plain": [
              "(85627, 18)"
            ]
          },
          "execution_count": 72,
          "metadata": {},
          "output_type": "execute_result"
        }
      ],
      "source": [
        "scaler = StandardScaler()\n",
        "X_scaled = scaler.fit_transform(num_data)\n",
        "X_scaled.shape\n"
      ]
    },
    {
      "cell_type": "code",
      "execution_count": 73,
      "metadata": {
        "id": "a0A8bNH93TTz"
      },
      "outputs": [],
      "source": [
        "R=np.hstack((X_scaled,X_new))\n"
      ]
    },
    {
      "cell_type": "code",
      "execution_count": 74,
      "metadata": {
        "colab": {
          "base_uri": "https://localhost:8080/"
        },
        "id": "cAiuAzBy9CYo",
        "outputId": "a24589bf-0c3e-4436-9a23-7affd008d9fa"
      },
      "outputs": [
        {
          "data": {
            "text/plain": [
              "(85627, 997)"
            ]
          },
          "execution_count": 74,
          "metadata": {},
          "output_type": "execute_result"
        }
      ],
      "source": [
        "R.shape"
      ]
    },
    {
      "cell_type": "markdown",
      "metadata": {
        "id": "C-V-wpNm_Fu1"
      },
      "source": [
        "Spliting the data into x_train x_test,y_train and y_test"
      ]
    },
    {
      "cell_type": "code",
      "execution_count": 75,
      "metadata": {
        "id": "IhZR_lO9_FGE"
      },
      "outputs": [],
      "source": [
        "X_train, X_test, y_train, y_test = train_test_split(R, y, test_size=0.2, random_state=42)\n"
      ]
    },
    {
      "cell_type": "markdown",
      "metadata": {
        "id": "I0bG8Mz_8cT6"
      },
      "source": [
        "# # Apply the Naive Bayes Model\n"
      ]
    },
    {
      "cell_type": "markdown",
      "metadata": {
        "id": "N9ooZv4NJ8C4"
      },
      "source": [
        "here we train the model"
      ]
    },
    {
      "cell_type": "code",
      "execution_count": 76,
      "metadata": {
        "colab": {
          "base_uri": "https://localhost:8080/",
          "height": 74
        },
        "id": "xPRX7KIM9BWi",
        "outputId": "218ddbca-acd2-44be-9cc9-6f0ba99b671e"
      },
      "outputs": [
        {
          "data": {
            "text/html": [
              "<style>#sk-container-id-1 {\n",
              "  /* Definition of color scheme common for light and dark mode */\n",
              "  --sklearn-color-text: black;\n",
              "  --sklearn-color-line: gray;\n",
              "  /* Definition of color scheme for unfitted estimators */\n",
              "  --sklearn-color-unfitted-level-0: #fff5e6;\n",
              "  --sklearn-color-unfitted-level-1: #f6e4d2;\n",
              "  --sklearn-color-unfitted-level-2: #ffe0b3;\n",
              "  --sklearn-color-unfitted-level-3: chocolate;\n",
              "  /* Definition of color scheme for fitted estimators */\n",
              "  --sklearn-color-fitted-level-0: #f0f8ff;\n",
              "  --sklearn-color-fitted-level-1: #d4ebff;\n",
              "  --sklearn-color-fitted-level-2: #b3dbfd;\n",
              "  --sklearn-color-fitted-level-3: cornflowerblue;\n",
              "\n",
              "  /* Specific color for light theme */\n",
              "  --sklearn-color-text-on-default-background: var(--sg-text-color, var(--theme-code-foreground, var(--jp-content-font-color1, black)));\n",
              "  --sklearn-color-background: var(--sg-background-color, var(--theme-background, var(--jp-layout-color0, white)));\n",
              "  --sklearn-color-border-box: var(--sg-text-color, var(--theme-code-foreground, var(--jp-content-font-color1, black)));\n",
              "  --sklearn-color-icon: #696969;\n",
              "\n",
              "  @media (prefers-color-scheme: dark) {\n",
              "    /* Redefinition of color scheme for dark theme */\n",
              "    --sklearn-color-text-on-default-background: var(--sg-text-color, var(--theme-code-foreground, var(--jp-content-font-color1, white)));\n",
              "    --sklearn-color-background: var(--sg-background-color, var(--theme-background, var(--jp-layout-color0, #111)));\n",
              "    --sklearn-color-border-box: var(--sg-text-color, var(--theme-code-foreground, var(--jp-content-font-color1, white)));\n",
              "    --sklearn-color-icon: #878787;\n",
              "  }\n",
              "}\n",
              "\n",
              "#sk-container-id-1 {\n",
              "  color: var(--sklearn-color-text);\n",
              "}\n",
              "\n",
              "#sk-container-id-1 pre {\n",
              "  padding: 0;\n",
              "}\n",
              "\n",
              "#sk-container-id-1 input.sk-hidden--visually {\n",
              "  border: 0;\n",
              "  clip: rect(1px 1px 1px 1px);\n",
              "  clip: rect(1px, 1px, 1px, 1px);\n",
              "  height: 1px;\n",
              "  margin: -1px;\n",
              "  overflow: hidden;\n",
              "  padding: 0;\n",
              "  position: absolute;\n",
              "  width: 1px;\n",
              "}\n",
              "\n",
              "#sk-container-id-1 div.sk-dashed-wrapped {\n",
              "  border: 1px dashed var(--sklearn-color-line);\n",
              "  margin: 0 0.4em 0.5em 0.4em;\n",
              "  box-sizing: border-box;\n",
              "  padding-bottom: 0.4em;\n",
              "  background-color: var(--sklearn-color-background);\n",
              "}\n",
              "\n",
              "#sk-container-id-1 div.sk-container {\n",
              "  /* jupyter's `normalize.less` sets `[hidden] { display: none; }`\n",
              "     but bootstrap.min.css set `[hidden] { display: none !important; }`\n",
              "     so we also need the `!important` here to be able to override the\n",
              "     default hidden behavior on the sphinx rendered scikit-learn.org.\n",
              "     See: https://github.com/scikit-learn/scikit-learn/issues/21755 */\n",
              "  display: inline-block !important;\n",
              "  position: relative;\n",
              "}\n",
              "\n",
              "#sk-container-id-1 div.sk-text-repr-fallback {\n",
              "  display: none;\n",
              "}\n",
              "\n",
              "div.sk-parallel-item,\n",
              "div.sk-serial,\n",
              "div.sk-item {\n",
              "  /* draw centered vertical line to link estimators */\n",
              "  background-image: linear-gradient(var(--sklearn-color-text-on-default-background), var(--sklearn-color-text-on-default-background));\n",
              "  background-size: 2px 100%;\n",
              "  background-repeat: no-repeat;\n",
              "  background-position: center center;\n",
              "}\n",
              "\n",
              "/* Parallel-specific style estimator block */\n",
              "\n",
              "#sk-container-id-1 div.sk-parallel-item::after {\n",
              "  content: \"\";\n",
              "  width: 100%;\n",
              "  border-bottom: 2px solid var(--sklearn-color-text-on-default-background);\n",
              "  flex-grow: 1;\n",
              "}\n",
              "\n",
              "#sk-container-id-1 div.sk-parallel {\n",
              "  display: flex;\n",
              "  align-items: stretch;\n",
              "  justify-content: center;\n",
              "  background-color: var(--sklearn-color-background);\n",
              "  position: relative;\n",
              "}\n",
              "\n",
              "#sk-container-id-1 div.sk-parallel-item {\n",
              "  display: flex;\n",
              "  flex-direction: column;\n",
              "}\n",
              "\n",
              "#sk-container-id-1 div.sk-parallel-item:first-child::after {\n",
              "  align-self: flex-end;\n",
              "  width: 50%;\n",
              "}\n",
              "\n",
              "#sk-container-id-1 div.sk-parallel-item:last-child::after {\n",
              "  align-self: flex-start;\n",
              "  width: 50%;\n",
              "}\n",
              "\n",
              "#sk-container-id-1 div.sk-parallel-item:only-child::after {\n",
              "  width: 0;\n",
              "}\n",
              "\n",
              "/* Serial-specific style estimator block */\n",
              "\n",
              "#sk-container-id-1 div.sk-serial {\n",
              "  display: flex;\n",
              "  flex-direction: column;\n",
              "  align-items: center;\n",
              "  background-color: var(--sklearn-color-background);\n",
              "  padding-right: 1em;\n",
              "  padding-left: 1em;\n",
              "}\n",
              "\n",
              "\n",
              "/* Toggleable style: style used for estimator/Pipeline/ColumnTransformer box that is\n",
              "clickable and can be expanded/collapsed.\n",
              "- Pipeline and ColumnTransformer use this feature and define the default style\n",
              "- Estimators will overwrite some part of the style using the `sk-estimator` class\n",
              "*/\n",
              "\n",
              "/* Pipeline and ColumnTransformer style (default) */\n",
              "\n",
              "#sk-container-id-1 div.sk-toggleable {\n",
              "  /* Default theme specific background. It is overwritten whether we have a\n",
              "  specific estimator or a Pipeline/ColumnTransformer */\n",
              "  background-color: var(--sklearn-color-background);\n",
              "}\n",
              "\n",
              "/* Toggleable label */\n",
              "#sk-container-id-1 label.sk-toggleable__label {\n",
              "  cursor: pointer;\n",
              "  display: block;\n",
              "  width: 100%;\n",
              "  margin-bottom: 0;\n",
              "  padding: 0.5em;\n",
              "  box-sizing: border-box;\n",
              "  text-align: center;\n",
              "}\n",
              "\n",
              "#sk-container-id-1 label.sk-toggleable__label-arrow:before {\n",
              "  /* Arrow on the left of the label */\n",
              "  content: \"▸\";\n",
              "  float: left;\n",
              "  margin-right: 0.25em;\n",
              "  color: var(--sklearn-color-icon);\n",
              "}\n",
              "\n",
              "#sk-container-id-1 label.sk-toggleable__label-arrow:hover:before {\n",
              "  color: var(--sklearn-color-text);\n",
              "}\n",
              "\n",
              "/* Toggleable content - dropdown */\n",
              "\n",
              "#sk-container-id-1 div.sk-toggleable__content {\n",
              "  max-height: 0;\n",
              "  max-width: 0;\n",
              "  overflow: hidden;\n",
              "  text-align: left;\n",
              "  /* unfitted */\n",
              "  background-color: var(--sklearn-color-unfitted-level-0);\n",
              "}\n",
              "\n",
              "#sk-container-id-1 div.sk-toggleable__content.fitted {\n",
              "  /* fitted */\n",
              "  background-color: var(--sklearn-color-fitted-level-0);\n",
              "}\n",
              "\n",
              "#sk-container-id-1 div.sk-toggleable__content pre {\n",
              "  margin: 0.2em;\n",
              "  border-radius: 0.25em;\n",
              "  color: var(--sklearn-color-text);\n",
              "  /* unfitted */\n",
              "  background-color: var(--sklearn-color-unfitted-level-0);\n",
              "}\n",
              "\n",
              "#sk-container-id-1 div.sk-toggleable__content.fitted pre {\n",
              "  /* unfitted */\n",
              "  background-color: var(--sklearn-color-fitted-level-0);\n",
              "}\n",
              "\n",
              "#sk-container-id-1 input.sk-toggleable__control:checked~div.sk-toggleable__content {\n",
              "  /* Expand drop-down */\n",
              "  max-height: 200px;\n",
              "  max-width: 100%;\n",
              "  overflow: auto;\n",
              "}\n",
              "\n",
              "#sk-container-id-1 input.sk-toggleable__control:checked~label.sk-toggleable__label-arrow:before {\n",
              "  content: \"▾\";\n",
              "}\n",
              "\n",
              "/* Pipeline/ColumnTransformer-specific style */\n",
              "\n",
              "#sk-container-id-1 div.sk-label input.sk-toggleable__control:checked~label.sk-toggleable__label {\n",
              "  color: var(--sklearn-color-text);\n",
              "  background-color: var(--sklearn-color-unfitted-level-2);\n",
              "}\n",
              "\n",
              "#sk-container-id-1 div.sk-label.fitted input.sk-toggleable__control:checked~label.sk-toggleable__label {\n",
              "  background-color: var(--sklearn-color-fitted-level-2);\n",
              "}\n",
              "\n",
              "/* Estimator-specific style */\n",
              "\n",
              "/* Colorize estimator box */\n",
              "#sk-container-id-1 div.sk-estimator input.sk-toggleable__control:checked~label.sk-toggleable__label {\n",
              "  /* unfitted */\n",
              "  background-color: var(--sklearn-color-unfitted-level-2);\n",
              "}\n",
              "\n",
              "#sk-container-id-1 div.sk-estimator.fitted input.sk-toggleable__control:checked~label.sk-toggleable__label {\n",
              "  /* fitted */\n",
              "  background-color: var(--sklearn-color-fitted-level-2);\n",
              "}\n",
              "\n",
              "#sk-container-id-1 div.sk-label label.sk-toggleable__label,\n",
              "#sk-container-id-1 div.sk-label label {\n",
              "  /* The background is the default theme color */\n",
              "  color: var(--sklearn-color-text-on-default-background);\n",
              "}\n",
              "\n",
              "/* On hover, darken the color of the background */\n",
              "#sk-container-id-1 div.sk-label:hover label.sk-toggleable__label {\n",
              "  color: var(--sklearn-color-text);\n",
              "  background-color: var(--sklearn-color-unfitted-level-2);\n",
              "}\n",
              "\n",
              "/* Label box, darken color on hover, fitted */\n",
              "#sk-container-id-1 div.sk-label.fitted:hover label.sk-toggleable__label.fitted {\n",
              "  color: var(--sklearn-color-text);\n",
              "  background-color: var(--sklearn-color-fitted-level-2);\n",
              "}\n",
              "\n",
              "/* Estimator label */\n",
              "\n",
              "#sk-container-id-1 div.sk-label label {\n",
              "  font-family: monospace;\n",
              "  font-weight: bold;\n",
              "  display: inline-block;\n",
              "  line-height: 1.2em;\n",
              "}\n",
              "\n",
              "#sk-container-id-1 div.sk-label-container {\n",
              "  text-align: center;\n",
              "}\n",
              "\n",
              "/* Estimator-specific */\n",
              "#sk-container-id-1 div.sk-estimator {\n",
              "  font-family: monospace;\n",
              "  border: 1px dotted var(--sklearn-color-border-box);\n",
              "  border-radius: 0.25em;\n",
              "  box-sizing: border-box;\n",
              "  margin-bottom: 0.5em;\n",
              "  /* unfitted */\n",
              "  background-color: var(--sklearn-color-unfitted-level-0);\n",
              "}\n",
              "\n",
              "#sk-container-id-1 div.sk-estimator.fitted {\n",
              "  /* fitted */\n",
              "  background-color: var(--sklearn-color-fitted-level-0);\n",
              "}\n",
              "\n",
              "/* on hover */\n",
              "#sk-container-id-1 div.sk-estimator:hover {\n",
              "  /* unfitted */\n",
              "  background-color: var(--sklearn-color-unfitted-level-2);\n",
              "}\n",
              "\n",
              "#sk-container-id-1 div.sk-estimator.fitted:hover {\n",
              "  /* fitted */\n",
              "  background-color: var(--sklearn-color-fitted-level-2);\n",
              "}\n",
              "\n",
              "/* Specification for estimator info (e.g. \"i\" and \"?\") */\n",
              "\n",
              "/* Common style for \"i\" and \"?\" */\n",
              "\n",
              ".sk-estimator-doc-link,\n",
              "a:link.sk-estimator-doc-link,\n",
              "a:visited.sk-estimator-doc-link {\n",
              "  float: right;\n",
              "  font-size: smaller;\n",
              "  line-height: 1em;\n",
              "  font-family: monospace;\n",
              "  background-color: var(--sklearn-color-background);\n",
              "  border-radius: 1em;\n",
              "  height: 1em;\n",
              "  width: 1em;\n",
              "  text-decoration: none !important;\n",
              "  margin-left: 1ex;\n",
              "  /* unfitted */\n",
              "  border: var(--sklearn-color-unfitted-level-1) 1pt solid;\n",
              "  color: var(--sklearn-color-unfitted-level-1);\n",
              "}\n",
              "\n",
              ".sk-estimator-doc-link.fitted,\n",
              "a:link.sk-estimator-doc-link.fitted,\n",
              "a:visited.sk-estimator-doc-link.fitted {\n",
              "  /* fitted */\n",
              "  border: var(--sklearn-color-fitted-level-1) 1pt solid;\n",
              "  color: var(--sklearn-color-fitted-level-1);\n",
              "}\n",
              "\n",
              "/* On hover */\n",
              "div.sk-estimator:hover .sk-estimator-doc-link:hover,\n",
              ".sk-estimator-doc-link:hover,\n",
              "div.sk-label-container:hover .sk-estimator-doc-link:hover,\n",
              ".sk-estimator-doc-link:hover {\n",
              "  /* unfitted */\n",
              "  background-color: var(--sklearn-color-unfitted-level-3);\n",
              "  color: var(--sklearn-color-background);\n",
              "  text-decoration: none;\n",
              "}\n",
              "\n",
              "div.sk-estimator.fitted:hover .sk-estimator-doc-link.fitted:hover,\n",
              ".sk-estimator-doc-link.fitted:hover,\n",
              "div.sk-label-container:hover .sk-estimator-doc-link.fitted:hover,\n",
              ".sk-estimator-doc-link.fitted:hover {\n",
              "  /* fitted */\n",
              "  background-color: var(--sklearn-color-fitted-level-3);\n",
              "  color: var(--sklearn-color-background);\n",
              "  text-decoration: none;\n",
              "}\n",
              "\n",
              "/* Span, style for the box shown on hovering the info icon */\n",
              ".sk-estimator-doc-link span {\n",
              "  display: none;\n",
              "  z-index: 9999;\n",
              "  position: relative;\n",
              "  font-weight: normal;\n",
              "  right: .2ex;\n",
              "  padding: .5ex;\n",
              "  margin: .5ex;\n",
              "  width: min-content;\n",
              "  min-width: 20ex;\n",
              "  max-width: 50ex;\n",
              "  color: var(--sklearn-color-text);\n",
              "  box-shadow: 2pt 2pt 4pt #999;\n",
              "  /* unfitted */\n",
              "  background: var(--sklearn-color-unfitted-level-0);\n",
              "  border: .5pt solid var(--sklearn-color-unfitted-level-3);\n",
              "}\n",
              "\n",
              ".sk-estimator-doc-link.fitted span {\n",
              "  /* fitted */\n",
              "  background: var(--sklearn-color-fitted-level-0);\n",
              "  border: var(--sklearn-color-fitted-level-3);\n",
              "}\n",
              "\n",
              ".sk-estimator-doc-link:hover span {\n",
              "  display: block;\n",
              "}\n",
              "\n",
              "/* \"?\"-specific style due to the `<a>` HTML tag */\n",
              "\n",
              "#sk-container-id-1 a.estimator_doc_link {\n",
              "  float: right;\n",
              "  font-size: 1rem;\n",
              "  line-height: 1em;\n",
              "  font-family: monospace;\n",
              "  background-color: var(--sklearn-color-background);\n",
              "  border-radius: 1rem;\n",
              "  height: 1rem;\n",
              "  width: 1rem;\n",
              "  text-decoration: none;\n",
              "  /* unfitted */\n",
              "  color: var(--sklearn-color-unfitted-level-1);\n",
              "  border: var(--sklearn-color-unfitted-level-1) 1pt solid;\n",
              "}\n",
              "\n",
              "#sk-container-id-1 a.estimator_doc_link.fitted {\n",
              "  /* fitted */\n",
              "  border: var(--sklearn-color-fitted-level-1) 1pt solid;\n",
              "  color: var(--sklearn-color-fitted-level-1);\n",
              "}\n",
              "\n",
              "/* On hover */\n",
              "#sk-container-id-1 a.estimator_doc_link:hover {\n",
              "  /* unfitted */\n",
              "  background-color: var(--sklearn-color-unfitted-level-3);\n",
              "  color: var(--sklearn-color-background);\n",
              "  text-decoration: none;\n",
              "}\n",
              "\n",
              "#sk-container-id-1 a.estimator_doc_link.fitted:hover {\n",
              "  /* fitted */\n",
              "  background-color: var(--sklearn-color-fitted-level-3);\n",
              "}\n",
              "</style><div id=\"sk-container-id-1\" class=\"sk-top-container\"><div class=\"sk-text-repr-fallback\"><pre>GaussianNB()</pre><b>In a Jupyter environment, please rerun this cell to show the HTML representation or trust the notebook. <br />On GitHub, the HTML representation is unable to render, please try loading this page with nbviewer.org.</b></div><div class=\"sk-container\" hidden><div class=\"sk-item\"><div class=\"sk-estimator fitted sk-toggleable\"><input class=\"sk-toggleable__control sk-hidden--visually\" id=\"sk-estimator-id-1\" type=\"checkbox\" checked><label for=\"sk-estimator-id-1\" class=\"sk-toggleable__label fitted sk-toggleable__label-arrow fitted\">&nbsp;&nbsp;GaussianNB<a class=\"sk-estimator-doc-link fitted\" rel=\"noreferrer\" target=\"_blank\" href=\"https://scikit-learn.org/1.4/modules/generated/sklearn.naive_bayes.GaussianNB.html\">?<span>Documentation for GaussianNB</span></a><span class=\"sk-estimator-doc-link fitted\">i<span>Fitted</span></span></label><div class=\"sk-toggleable__content fitted\"><pre>GaussianNB()</pre></div> </div></div></div></div>"
            ],
            "text/plain": [
              "GaussianNB()"
            ]
          },
          "execution_count": 76,
          "metadata": {},
          "output_type": "execute_result"
        }
      ],
      "source": [
        "model = GaussianNB()\n",
        "model.fit(X_train, y_train)\n",
        "\n"
      ]
    },
    {
      "cell_type": "markdown",
      "metadata": {
        "id": "VDS5pbRjKBSF"
      },
      "source": [
        "Here we test the model"
      ]
    },
    {
      "cell_type": "code",
      "execution_count": 77,
      "metadata": {
        "id": "m1u5JG8k7coT"
      },
      "outputs": [],
      "source": [
        "y_pred = model.predict(X_test)\n"
      ]
    },
    {
      "cell_type": "markdown",
      "metadata": {
        "id": "TCIDy08pKJ8n"
      },
      "source": [
        "here we check the ROC value of our model"
      ]
    },
    {
      "cell_type": "code",
      "execution_count": 78,
      "metadata": {
        "id": "9YXAkX7NJecV"
      },
      "outputs": [],
      "source": [
        "roc_auc = roc_auc_score(y_test, y_pred)\n"
      ]
    },
    {
      "cell_type": "code",
      "execution_count": 79,
      "metadata": {
        "colab": {
          "base_uri": "https://localhost:8080/"
        },
        "id": "_jI614TqJePw",
        "outputId": "d81001cf-8aa3-4c36-cb57-004573452ad0"
      },
      "outputs": [
        {
          "name": "stdout",
          "output_type": "stream",
          "text": [
            "ROC AUC: 0.9998962224989623\n"
          ]
        }
      ],
      "source": [
        "print(\"ROC AUC:\", roc_auc)\n"
      ]
    },
    {
      "cell_type": "markdown",
      "metadata": {
        "id": "-iLywpJ6Oyna"
      },
      "source": [
        "Print the confusion matrix here"
      ]
    },
    {
      "cell_type": "code",
      "execution_count": 80,
      "metadata": {
        "colab": {
          "base_uri": "https://localhost:8080/",
          "height": 508
        },
        "id": "JCiNlVBmL1yi",
        "outputId": "2d5ebfcd-52ac-4bd2-adc0-e13675f3a891"
      },
      "outputs": [
        {
          "name": "stdout",
          "output_type": "stream",
          "text": [
            "[[12308     0]\n",
            " [    1  4817]]\n"
          ]
        },
        {
          "data": {
            "image/png": "[encoded data removed]",
            "text/plain": [
              "<Figure size 640x480 with 2 Axes>"
            ]
          },
          "metadata": {},
          "output_type": "display_data"
        }
      ],
      "source": [
        "\n",
        "\n",
        "from sklearn.metrics import confusion_matrix,accuracy_score\n",
        "cm = confusion_matrix(y_test, y_pred)\n",
        "print(cm)\n",
        "# Plot confusion matrix\n",
        "sns.heatmap(cm, annot=True, fmt=\"d\")\n",
        "plt.xlabel(\"Predicted label\")\n",
        "plt.ylabel(\"True label\")\n",
        "plt.title(\"Confusion Matrix\")\n",
        "plt.show()\n",
        "\n"
      ]
    },
    {
      "cell_type": "code",
      "execution_count": 81,
      "metadata": {
        "colab": {
          "base_uri": "https://localhost:8080/"
        },
        "id": "wTXJhy42MdgM",
        "outputId": "5577c8ed-bf3c-4df6-e3fe-e6cec3e33299"
      },
      "outputs": [
        {
          "name": "stdout",
          "output_type": "stream",
          "text": [
            "1.0\n"
          ]
        }
      ],
      "source": [
        "r2 = model.score(X_train, y_train)\n",
        "print(r2)\n"
      ]
    },
    {
      "cell_type": "code",
      "execution_count": 82,
      "metadata": {
        "colab": {
          "base_uri": "https://localhost:8080/"
        },
        "id": "k-9oAqPyDt8N",
        "outputId": "1fc806dd-e31a-4999-d5bf-998ba969ace3"
      },
      "outputs": [
        {
          "name": "stdout",
          "output_type": "stream",
          "text": [
            "0.9999416092490949\n"
          ]
        }
      ],
      "source": [
        "r2 = model.score(X_test, y_test)\n",
        "print(r2)\n"
      ]
    },
    {
      "cell_type": "code",
      "execution_count": null,
      "metadata": {
        "id": "m7Dm8_JIHoDf"
      },
      "outputs": [],
      "source": []
    },
    {
      "cell_type": "code",
      "execution_count": null,
      "metadata": {},
      "outputs": [],
      "source": []
    },
    {
      "cell_type": "code",
      "execution_count": null,
      "metadata": {},
      "outputs": [],
      "source": []
    }
  ],
  "metadata": {
    "colab": {
      "provenance": []
    },
    "kernelspec": {
      "display_name": "Python 3",
      "name": "python3"
    },
    "language_info": {
      "codemirror_mode": {
        "name": "ipython",
        "version": 3
      },
      "file_extension": ".py",
      "mimetype": "text/x-python",
      "name": "python",
      "nbconvert_exporter": "python",
      "pygments_lexer": "ipython3",
      "version": "3.11.7"
    }
  },
  "nbformat": 4,
  "nbformat_minor": 0
}
